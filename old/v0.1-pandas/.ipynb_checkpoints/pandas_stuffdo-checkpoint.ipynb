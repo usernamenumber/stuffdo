{
 "cells": [
  {
   "cell_type": "code",
   "execution_count": 31,
   "metadata": {},
   "outputs": [],
   "source": [
    "import pandas as pd\n",
    "import numpy as np"
   ]
  },
  {
   "cell_type": "code",
   "execution_count": 32,
   "metadata": {},
   "outputs": [
    {
     "data": {
      "text/html": [
       "<div>\n",
       "<style scoped>\n",
       "    .dataframe tbody tr th:only-of-type {\n",
       "        vertical-align: middle;\n",
       "    }\n",
       "\n",
       "    .dataframe tbody tr th {\n",
       "        vertical-align: top;\n",
       "    }\n",
       "\n",
       "    .dataframe thead th {\n",
       "        text-align: right;\n",
       "    }\n",
       "</style>\n",
       "<table border=\"1\" class=\"dataframe\">\n",
       "  <thead>\n",
       "    <tr style=\"text-align: right;\">\n",
       "      <th></th>\n",
       "      <th>person</th>\n",
       "      <th>dates</th>\n",
       "      <th>events</th>\n",
       "      <th>notes</th>\n",
       "    </tr>\n",
       "  </thead>\n",
       "  <tbody>\n",
       "    <tr>\n",
       "      <th>0</th>\n",
       "      <td>person1</td>\n",
       "      <td>(date1, date4)</td>\n",
       "      <td>(thing1, thing3)</td>\n",
       "      <td></td>\n",
       "    </tr>\n",
       "    <tr>\n",
       "      <th>1</th>\n",
       "      <td>person2</td>\n",
       "      <td>(date1, date2)</td>\n",
       "      <td>(thing1, thing2)</td>\n",
       "      <td></td>\n",
       "    </tr>\n",
       "    <tr>\n",
       "      <th>2</th>\n",
       "      <td>person3</td>\n",
       "      <td>(date1, date2, date3)</td>\n",
       "      <td>(thing1, thing2, thing3, thing4)</td>\n",
       "      <td></td>\n",
       "    </tr>\n",
       "  </tbody>\n",
       "</table>\n",
       "</div>"
      ],
      "text/plain": [
       "    person                  dates                            events notes\n",
       "0  person1         (date1, date4)                  (thing1, thing3)      \n",
       "1  person2         (date1, date2)                  (thing1, thing2)      \n",
       "2  person3  (date1, date2, date3)  (thing1, thing2, thing3, thing4)      "
      ]
     },
     "execution_count": 32,
     "metadata": {},
     "output_type": "execute_result"
    }
   ],
   "source": [
    "all_events = ['thing{}'.format(i) for i in range(1,5)]\n",
    "all_dates  = ['date{}'.format(i) for i in range(1,5)]\n",
    "\n",
    "form_data = [\n",
    "    {\n",
    "            'person':   'person1',\n",
    "            'dates':  (\"date1\", \"date4\"),\n",
    "            'events': (\"thing1\", \"thing3\"),\n",
    "            'notes':  '',\n",
    "    },\n",
    "    {\n",
    "            'person':  'person2',\n",
    "            'dates':  (\"date1\", \"date2\"),\n",
    "            'events': (\"thing1\", \"thing2\"),\n",
    "            'notes':  '',\n",
    "    },\n",
    "    {\n",
    "            'person': 'person3',\n",
    "            'dates':  (\"date1\", \"date2\", \"date3\"),\n",
    "            'events':  (\"thing1\", \"thing2\", \"thing3\", \"thing4\"),\n",
    "            'notes':  '',\n",
    "    },\n",
    "]\n",
    "\n",
    "\n",
    "df = pd.DataFrame.from_records(form_data)\n",
    "all_people = [ p['person'] for p in form_data ]\n",
    "df"
   ]
  },
  {
   "cell_type": "markdown",
   "metadata": {},
   "source": [
    "person, dates tuples\n",
    "person, events tuples\n",
    "join those on person, group by event,date\n",
    "\n",
    "use antijoin to remove options as events are scheduled\n",
    "\n",
    "look up pd.pivot, pivot_values\n",
    "\n",
    "np book array where rows sum to 1\n",
    "prob too fancy: dynamic programming matrix"
   ]
  },
  {
   "cell_type": "markdown",
   "metadata": {},
   "source": [
    "1. calculate scores that factor in:\n",
    "  - number of ppl who can attend\n",
    "    - weighted by % of total interesting events that person is able to attend (i.e. someone with 0% events weighs more than someone with 100%)\n",
    "  - % of interested ppl who can attend\n",
    "2. adjust scores to factor in difference in ^^ scores for this and next best\n",
    " 2. Select top-scoring event+date\n",
    " 3. Remove ^^^\n",
    " 4. Repeat\n",
    " "
   ]
  },
  {
   "cell_type": "code",
   "execution_count": 33,
   "metadata": {},
   "outputs": [
    {
     "data": {
      "text/html": [
       "<div>\n",
       "<style scoped>\n",
       "    .dataframe tbody tr th:only-of-type {\n",
       "        vertical-align: middle;\n",
       "    }\n",
       "\n",
       "    .dataframe tbody tr th {\n",
       "        vertical-align: top;\n",
       "    }\n",
       "\n",
       "    .dataframe thead th {\n",
       "        text-align: right;\n",
       "    }\n",
       "</style>\n",
       "<table border=\"1\" class=\"dataframe\">\n",
       "  <thead>\n",
       "    <tr style=\"text-align: right;\">\n",
       "      <th></th>\n",
       "      <th>date</th>\n",
       "    </tr>\n",
       "    <tr>\n",
       "      <th>person</th>\n",
       "      <th></th>\n",
       "    </tr>\n",
       "  </thead>\n",
       "  <tbody>\n",
       "    <tr>\n",
       "      <th>person1</th>\n",
       "      <td>date1</td>\n",
       "    </tr>\n",
       "    <tr>\n",
       "      <th>person1</th>\n",
       "      <td>date4</td>\n",
       "    </tr>\n",
       "    <tr>\n",
       "      <th>person2</th>\n",
       "      <td>date1</td>\n",
       "    </tr>\n",
       "    <tr>\n",
       "      <th>person2</th>\n",
       "      <td>date2</td>\n",
       "    </tr>\n",
       "    <tr>\n",
       "      <th>person3</th>\n",
       "      <td>date1</td>\n",
       "    </tr>\n",
       "    <tr>\n",
       "      <th>person3</th>\n",
       "      <td>date2</td>\n",
       "    </tr>\n",
       "    <tr>\n",
       "      <th>person3</th>\n",
       "      <td>date3</td>\n",
       "    </tr>\n",
       "  </tbody>\n",
       "</table>\n",
       "</div>"
      ],
      "text/plain": [
       "          date\n",
       "person        \n",
       "person1  date1\n",
       "person1  date4\n",
       "person2  date1\n",
       "person2  date2\n",
       "person3  date1\n",
       "person3  date2\n",
       "person3  date3"
      ]
     },
     "execution_count": 33,
     "metadata": {},
     "output_type": "execute_result"
    }
   ],
   "source": [
    "\n",
    "date_tuples = []\n",
    "for d in form_data:\n",
    "    person = d['person']\n",
    "    dates = d['dates']\n",
    "    date_tuples += [(person, date) for date in dates]\n",
    "availability = pd.DataFrame(date_tuples, columns=('person','date')).set_index('person')\n",
    "availability"
   ]
  },
  {
   "cell_type": "code",
   "execution_count": 125,
   "metadata": {},
   "outputs": [
    {
     "data": {
      "text/html": [
       "<div>\n",
       "<style scoped>\n",
       "    .dataframe tbody tr th:only-of-type {\n",
       "        vertical-align: middle;\n",
       "    }\n",
       "\n",
       "    .dataframe tbody tr th {\n",
       "        vertical-align: top;\n",
       "    }\n",
       "\n",
       "    .dataframe thead th {\n",
       "        text-align: right;\n",
       "    }\n",
       "</style>\n",
       "<table border=\"1\" class=\"dataframe\">\n",
       "  <thead>\n",
       "    <tr style=\"text-align: right;\">\n",
       "      <th></th>\n",
       "      <th>event</th>\n",
       "    </tr>\n",
       "    <tr>\n",
       "      <th>person</th>\n",
       "      <th></th>\n",
       "    </tr>\n",
       "  </thead>\n",
       "  <tbody>\n",
       "    <tr>\n",
       "      <th>person1</th>\n",
       "      <td>thing1</td>\n",
       "    </tr>\n",
       "    <tr>\n",
       "      <th>person1</th>\n",
       "      <td>thing3</td>\n",
       "    </tr>\n",
       "    <tr>\n",
       "      <th>person2</th>\n",
       "      <td>thing1</td>\n",
       "    </tr>\n",
       "    <tr>\n",
       "      <th>person2</th>\n",
       "      <td>thing2</td>\n",
       "    </tr>\n",
       "    <tr>\n",
       "      <th>person3</th>\n",
       "      <td>thing1</td>\n",
       "    </tr>\n",
       "    <tr>\n",
       "      <th>person3</th>\n",
       "      <td>thing2</td>\n",
       "    </tr>\n",
       "    <tr>\n",
       "      <th>person3</th>\n",
       "      <td>thing3</td>\n",
       "    </tr>\n",
       "    <tr>\n",
       "      <th>person3</th>\n",
       "      <td>thing4</td>\n",
       "    </tr>\n",
       "  </tbody>\n",
       "</table>\n",
       "</div>"
      ],
      "text/plain": [
       "          event\n",
       "person         \n",
       "person1  thing1\n",
       "person1  thing3\n",
       "person2  thing1\n",
       "person2  thing2\n",
       "person3  thing1\n",
       "person3  thing2\n",
       "person3  thing3\n",
       "person3  thing4"
      ]
     },
     "execution_count": 125,
     "metadata": {},
     "output_type": "execute_result"
    }
   ],
   "source": [
    "event_tuples = []\n",
    "for d in form_data:\n",
    "    person = d['person']\n",
    "    events = d['events']\n",
    "    event_tuples += [(person, event) for event in events]\n",
    "interest = pd.DataFrame(event_tuples, columns=('person','event')).set_index('person')\n",
    "interest"
   ]
  },
  {
   "cell_type": "code",
   "execution_count": 126,
   "metadata": {},
   "outputs": [
    {
     "data": {
      "text/html": [
       "<div>\n",
       "<style scoped>\n",
       "    .dataframe tbody tr th:only-of-type {\n",
       "        vertical-align: middle;\n",
       "    }\n",
       "\n",
       "    .dataframe tbody tr th {\n",
       "        vertical-align: top;\n",
       "    }\n",
       "\n",
       "    .dataframe thead th {\n",
       "        text-align: right;\n",
       "    }\n",
       "</style>\n",
       "<table border=\"1\" class=\"dataframe\">\n",
       "  <thead>\n",
       "    <tr style=\"text-align: right;\">\n",
       "      <th></th>\n",
       "      <th>date</th>\n",
       "      <th>event</th>\n",
       "    </tr>\n",
       "    <tr>\n",
       "      <th>person</th>\n",
       "      <th></th>\n",
       "      <th></th>\n",
       "    </tr>\n",
       "  </thead>\n",
       "  <tbody>\n",
       "    <tr>\n",
       "      <th>person1</th>\n",
       "      <td>date1</td>\n",
       "      <td>thing1</td>\n",
       "    </tr>\n",
       "    <tr>\n",
       "      <th>person1</th>\n",
       "      <td>date1</td>\n",
       "      <td>thing3</td>\n",
       "    </tr>\n",
       "    <tr>\n",
       "      <th>person1</th>\n",
       "      <td>date4</td>\n",
       "      <td>thing1</td>\n",
       "    </tr>\n",
       "    <tr>\n",
       "      <th>person1</th>\n",
       "      <td>date4</td>\n",
       "      <td>thing3</td>\n",
       "    </tr>\n",
       "    <tr>\n",
       "      <th>person2</th>\n",
       "      <td>date1</td>\n",
       "      <td>thing1</td>\n",
       "    </tr>\n",
       "    <tr>\n",
       "      <th>person2</th>\n",
       "      <td>date1</td>\n",
       "      <td>thing2</td>\n",
       "    </tr>\n",
       "    <tr>\n",
       "      <th>person2</th>\n",
       "      <td>date2</td>\n",
       "      <td>thing1</td>\n",
       "    </tr>\n",
       "    <tr>\n",
       "      <th>person2</th>\n",
       "      <td>date2</td>\n",
       "      <td>thing2</td>\n",
       "    </tr>\n",
       "    <tr>\n",
       "      <th>person3</th>\n",
       "      <td>date1</td>\n",
       "      <td>thing1</td>\n",
       "    </tr>\n",
       "    <tr>\n",
       "      <th>person3</th>\n",
       "      <td>date1</td>\n",
       "      <td>thing2</td>\n",
       "    </tr>\n",
       "    <tr>\n",
       "      <th>person3</th>\n",
       "      <td>date1</td>\n",
       "      <td>thing3</td>\n",
       "    </tr>\n",
       "    <tr>\n",
       "      <th>person3</th>\n",
       "      <td>date1</td>\n",
       "      <td>thing4</td>\n",
       "    </tr>\n",
       "    <tr>\n",
       "      <th>person3</th>\n",
       "      <td>date2</td>\n",
       "      <td>thing1</td>\n",
       "    </tr>\n",
       "    <tr>\n",
       "      <th>person3</th>\n",
       "      <td>date2</td>\n",
       "      <td>thing2</td>\n",
       "    </tr>\n",
       "    <tr>\n",
       "      <th>person3</th>\n",
       "      <td>date2</td>\n",
       "      <td>thing3</td>\n",
       "    </tr>\n",
       "    <tr>\n",
       "      <th>person3</th>\n",
       "      <td>date2</td>\n",
       "      <td>thing4</td>\n",
       "    </tr>\n",
       "    <tr>\n",
       "      <th>person3</th>\n",
       "      <td>date3</td>\n",
       "      <td>thing1</td>\n",
       "    </tr>\n",
       "    <tr>\n",
       "      <th>person3</th>\n",
       "      <td>date3</td>\n",
       "      <td>thing2</td>\n",
       "    </tr>\n",
       "    <tr>\n",
       "      <th>person3</th>\n",
       "      <td>date3</td>\n",
       "      <td>thing3</td>\n",
       "    </tr>\n",
       "    <tr>\n",
       "      <th>person3</th>\n",
       "      <td>date3</td>\n",
       "      <td>thing4</td>\n",
       "    </tr>\n",
       "  </tbody>\n",
       "</table>\n",
       "</div>"
      ],
      "text/plain": [
       "          date   event\n",
       "person                \n",
       "person1  date1  thing1\n",
       "person1  date1  thing3\n",
       "person1  date4  thing1\n",
       "person1  date4  thing3\n",
       "person2  date1  thing1\n",
       "person2  date1  thing2\n",
       "person2  date2  thing1\n",
       "person2  date2  thing2\n",
       "person3  date1  thing1\n",
       "person3  date1  thing2\n",
       "person3  date1  thing3\n",
       "person3  date1  thing4\n",
       "person3  date2  thing1\n",
       "person3  date2  thing2\n",
       "person3  date2  thing3\n",
       "person3  date2  thing4\n",
       "person3  date3  thing1\n",
       "person3  date3  thing2\n",
       "person3  date3  thing3\n",
       "person3  date3  thing4"
      ]
     },
     "execution_count": 126,
     "metadata": {},
     "output_type": "execute_result"
    }
   ],
   "source": [
    "prefs = availability.join(interest)\n",
    "prefs\n"
   ]
  },
  {
   "cell_type": "markdown",
   "metadata": {},
   "source": [
    "## aggregation"
   ]
  },
  {
   "cell_type": "code",
   "execution_count": 147,
   "metadata": {},
   "outputs": [
    {
     "data": {
      "text/plain": [
       "event   date \n",
       "thing1  date3    1\n",
       "        date4    1\n",
       "thing2  date3    1\n",
       "thing3  date2    1\n",
       "        date3    1\n",
       "        date4    1\n",
       "thing4  date1    1\n",
       "        date2    1\n",
       "        date3    1\n",
       "thing1  date2    2\n",
       "thing2  date1    2\n",
       "        date2    2\n",
       "thing3  date1    2\n",
       "thing1  date1    3\n",
       "dtype: int64"
      ]
     },
     "execution_count": 147,
     "metadata": {},
     "output_type": "execute_result"
    }
   ],
   "source": [
    "options = prefs.groupby(['event','date']).size().sort_values()\n",
    "options"
   ]
  },
  {
   "cell_type": "code",
   "execution_count": 144,
   "metadata": {},
   "outputs": [
    {
     "data": {
      "text/plain": [
       "2"
      ]
     },
     "execution_count": 144,
     "metadata": {},
     "output_type": "execute_result"
    }
   ],
   "source": [
    "def num_attendees_for(event, date):\n",
    "    return options.loc[(event, date)]\n",
    "num_attendees_for(\"thing1\", \"date2\")"
   ]
  },
  {
   "cell_type": "markdown",
   "metadata": {},
   "source": [
    "## scoring"
   ]
  },
  {
   "cell_type": "code",
   "execution_count": 149,
   "metadata": {},
   "outputs": [
    {
     "data": {
      "text/plain": [
       "event   date \n",
       "thing1  date1    0\n",
       "        date2    0\n",
       "        date3    0\n",
       "        date4    0\n",
       "thing2  date1    0\n",
       "        date2    0\n",
       "        date3    0\n",
       "thing3  date1    0\n",
       "        date2    0\n",
       "        date3    0\n",
       "        date4    0\n",
       "thing4  date1    0\n",
       "        date2    0\n",
       "        date3    0\n",
       "dtype: int64"
      ]
     },
     "execution_count": 149,
     "metadata": {},
     "output_type": "execute_result"
    }
   ],
   "source": [
    "def score(x):\n",
    "    attendees = [] # todo\n",
    "    num_attendees = len(attendees)\n",
    "    return num_attendees\n",
    "        \n",
    "    \n",
    "    \n",
    "\n",
    "prefs.groupby(['event','date']).apply(score).sort_values()"
   ]
  },
  {
   "cell_type": "code",
   "execution_count": 114,
   "metadata": {},
   "outputs": [
    {
     "data": {
      "text/plain": [
       "[Index(['person1', 'person2', 'person3'], dtype='object', name='person'),\n",
       " Index(['person2', 'person3'], dtype='object', name='person'),\n",
       " Index(['person3'], dtype='object', name='person'),\n",
       " Index(['person1'], dtype='object', name='person'),\n",
       " Index(['person2', 'person3'], dtype='object', name='person'),\n",
       " Index(['person2', 'person3'], dtype='object', name='person'),\n",
       " Index(['person3'], dtype='object', name='person'),\n",
       " Index(['person1', 'person3'], dtype='object', name='person'),\n",
       " Index(['person3'], dtype='object', name='person'),\n",
       " Index(['person3'], dtype='object', name='person'),\n",
       " Index(['person1'], dtype='object', name='person'),\n",
       " Index(['person3'], dtype='object', name='person'),\n",
       " Index(['person3'], dtype='object', name='person'),\n",
       " Index(['person3'], dtype='object', name='person')]"
      ]
     },
     "execution_count": 114,
     "metadata": {},
     "output_type": "execute_result"
    }
   ],
   "source": [
    "[a.index for td,a in prefs.groupby(['event','date'])]"
   ]
  },
  {
   "cell_type": "code",
   "execution_count": 98,
   "metadata": {},
   "outputs": [
    {
     "data": {
      "text/html": [
       "<div>\n",
       "<style scoped>\n",
       "    .dataframe tbody tr th:only-of-type {\n",
       "        vertical-align: middle;\n",
       "    }\n",
       "\n",
       "    .dataframe tbody tr th {\n",
       "        vertical-align: top;\n",
       "    }\n",
       "\n",
       "    .dataframe thead th {\n",
       "        text-align: right;\n",
       "    }\n",
       "</style>\n",
       "<table border=\"1\" class=\"dataframe\">\n",
       "  <thead>\n",
       "    <tr style=\"text-align: right;\">\n",
       "      <th></th>\n",
       "      <th></th>\n",
       "      <th>0</th>\n",
       "    </tr>\n",
       "    <tr>\n",
       "      <th>event</th>\n",
       "      <th>date</th>\n",
       "      <th></th>\n",
       "    </tr>\n",
       "  </thead>\n",
       "  <tbody>\n",
       "    <tr>\n",
       "      <th rowspan=\"2\" valign=\"top\">thing1</th>\n",
       "      <th>date3</th>\n",
       "      <td>1</td>\n",
       "    </tr>\n",
       "    <tr>\n",
       "      <th>date4</th>\n",
       "      <td>1</td>\n",
       "    </tr>\n",
       "    <tr>\n",
       "      <th>thing2</th>\n",
       "      <th>date3</th>\n",
       "      <td>1</td>\n",
       "    </tr>\n",
       "    <tr>\n",
       "      <th rowspan=\"3\" valign=\"top\">thing3</th>\n",
       "      <th>date2</th>\n",
       "      <td>1</td>\n",
       "    </tr>\n",
       "    <tr>\n",
       "      <th>date3</th>\n",
       "      <td>1</td>\n",
       "    </tr>\n",
       "    <tr>\n",
       "      <th>date4</th>\n",
       "      <td>1</td>\n",
       "    </tr>\n",
       "    <tr>\n",
       "      <th rowspan=\"3\" valign=\"top\">thing4</th>\n",
       "      <th>date1</th>\n",
       "      <td>1</td>\n",
       "    </tr>\n",
       "    <tr>\n",
       "      <th>date2</th>\n",
       "      <td>1</td>\n",
       "    </tr>\n",
       "    <tr>\n",
       "      <th>date3</th>\n",
       "      <td>1</td>\n",
       "    </tr>\n",
       "    <tr>\n",
       "      <th>thing1</th>\n",
       "      <th>date2</th>\n",
       "      <td>2</td>\n",
       "    </tr>\n",
       "    <tr>\n",
       "      <th rowspan=\"2\" valign=\"top\">thing2</th>\n",
       "      <th>date1</th>\n",
       "      <td>2</td>\n",
       "    </tr>\n",
       "    <tr>\n",
       "      <th>date2</th>\n",
       "      <td>2</td>\n",
       "    </tr>\n",
       "    <tr>\n",
       "      <th>thing3</th>\n",
       "      <th>date1</th>\n",
       "      <td>2</td>\n",
       "    </tr>\n",
       "    <tr>\n",
       "      <th>thing1</th>\n",
       "      <th>date1</th>\n",
       "      <td>3</td>\n",
       "    </tr>\n",
       "  </tbody>\n",
       "</table>\n",
       "</div>"
      ],
      "text/plain": [
       "              0\n",
       "event  date    \n",
       "thing1 date3  1\n",
       "       date4  1\n",
       "thing2 date3  1\n",
       "thing3 date2  1\n",
       "       date3  1\n",
       "       date4  1\n",
       "thing4 date1  1\n",
       "       date2  1\n",
       "       date3  1\n",
       "thing1 date2  2\n",
       "thing2 date1  2\n",
       "       date2  2\n",
       "thing3 date1  2\n",
       "thing1 date1  3"
      ]
     },
     "execution_count": 98,
     "metadata": {},
     "output_type": "execute_result"
    }
   ],
   "source": [
    "pd.DataFrame(options)"
   ]
  },
  {
   "cell_type": "code",
   "execution_count": 39,
   "metadata": {},
   "outputs": [
    {
     "data": {
      "text/html": [
       "<div>\n",
       "<style scoped>\n",
       "    .dataframe tbody tr th:only-of-type {\n",
       "        vertical-align: middle;\n",
       "    }\n",
       "\n",
       "    .dataframe tbody tr th {\n",
       "        vertical-align: top;\n",
       "    }\n",
       "\n",
       "    .dataframe thead th {\n",
       "        text-align: right;\n",
       "    }\n",
       "</style>\n",
       "<table border=\"1\" class=\"dataframe\">\n",
       "  <thead>\n",
       "    <tr style=\"text-align: right;\">\n",
       "      <th></th>\n",
       "      <th>eventat</th>\n",
       "      <th>attendees</th>\n",
       "    </tr>\n",
       "  </thead>\n",
       "  <tbody>\n",
       "    <tr>\n",
       "      <th>0</th>\n",
       "      <td>(thing1, date1)</td>\n",
       "      <td>date   event\n",
       "person                \n",
       "...</td>\n",
       "    </tr>\n",
       "    <tr>\n",
       "      <th>1</th>\n",
       "      <td>(thing1, date2)</td>\n",
       "      <td>date   event\n",
       "person                \n",
       "...</td>\n",
       "    </tr>\n",
       "    <tr>\n",
       "      <th>2</th>\n",
       "      <td>(thing1, date3)</td>\n",
       "      <td>date   event\n",
       "person                \n",
       "...</td>\n",
       "    </tr>\n",
       "    <tr>\n",
       "      <th>3</th>\n",
       "      <td>(thing1, date4)</td>\n",
       "      <td>date   event\n",
       "person                \n",
       "...</td>\n",
       "    </tr>\n",
       "    <tr>\n",
       "      <th>4</th>\n",
       "      <td>(thing2, date1)</td>\n",
       "      <td>date   event\n",
       "person                \n",
       "...</td>\n",
       "    </tr>\n",
       "    <tr>\n",
       "      <th>5</th>\n",
       "      <td>(thing2, date2)</td>\n",
       "      <td>date   event\n",
       "person                \n",
       "...</td>\n",
       "    </tr>\n",
       "    <tr>\n",
       "      <th>6</th>\n",
       "      <td>(thing2, date3)</td>\n",
       "      <td>date   event\n",
       "person                \n",
       "...</td>\n",
       "    </tr>\n",
       "    <tr>\n",
       "      <th>7</th>\n",
       "      <td>(thing3, date1)</td>\n",
       "      <td>date   event\n",
       "person                \n",
       "...</td>\n",
       "    </tr>\n",
       "    <tr>\n",
       "      <th>8</th>\n",
       "      <td>(thing3, date2)</td>\n",
       "      <td>date   event\n",
       "person                \n",
       "...</td>\n",
       "    </tr>\n",
       "    <tr>\n",
       "      <th>9</th>\n",
       "      <td>(thing3, date3)</td>\n",
       "      <td>date   event\n",
       "person                \n",
       "...</td>\n",
       "    </tr>\n",
       "    <tr>\n",
       "      <th>10</th>\n",
       "      <td>(thing3, date4)</td>\n",
       "      <td>date   event\n",
       "person                \n",
       "...</td>\n",
       "    </tr>\n",
       "    <tr>\n",
       "      <th>11</th>\n",
       "      <td>(thing4, date1)</td>\n",
       "      <td>date   event\n",
       "person                \n",
       "...</td>\n",
       "    </tr>\n",
       "    <tr>\n",
       "      <th>12</th>\n",
       "      <td>(thing4, date2)</td>\n",
       "      <td>date   event\n",
       "person                \n",
       "...</td>\n",
       "    </tr>\n",
       "    <tr>\n",
       "      <th>13</th>\n",
       "      <td>(thing4, date3)</td>\n",
       "      <td>date   event\n",
       "person                \n",
       "...</td>\n",
       "    </tr>\n",
       "  </tbody>\n",
       "</table>\n",
       "</div>"
      ],
      "text/plain": [
       "            eventat                                          attendees\n",
       "0   (thing1, date1)            date   event\n",
       "person                \n",
       "...\n",
       "1   (thing1, date2)            date   event\n",
       "person                \n",
       "...\n",
       "2   (thing1, date3)            date   event\n",
       "person                \n",
       "...\n",
       "3   (thing1, date4)            date   event\n",
       "person                \n",
       "...\n",
       "4   (thing2, date1)            date   event\n",
       "person                \n",
       "...\n",
       "5   (thing2, date2)            date   event\n",
       "person                \n",
       "...\n",
       "6   (thing2, date3)            date   event\n",
       "person                \n",
       "...\n",
       "7   (thing3, date1)            date   event\n",
       "person                \n",
       "...\n",
       "8   (thing3, date2)            date   event\n",
       "person                \n",
       "...\n",
       "9   (thing3, date3)            date   event\n",
       "person                \n",
       "...\n",
       "10  (thing3, date4)            date   event\n",
       "person                \n",
       "...\n",
       "11  (thing4, date1)            date   event\n",
       "person                \n",
       "...\n",
       "12  (thing4, date2)            date   event\n",
       "person                \n",
       "...\n",
       "13  (thing4, date3)            date   event\n",
       "person                \n",
       "..."
      ]
     },
     "execution_count": 39,
     "metadata": {},
     "output_type": "execute_result"
    }
   ],
   "source": [
    "options = prefs.groupby(['event','date'])\n",
    "odf = pd.DataFrame(options, columns=['eventat','attendees'])\n",
    "odf"
   ]
  },
  {
   "cell_type": "code",
   "execution_count": 138,
   "metadata": {},
   "outputs": [
    {
     "data": {
      "text/plain": [
       "0              date   event\n",
       "person                \n",
       "...\n",
       "Name: attendees, dtype: object"
      ]
     },
     "execution_count": 138,
     "metadata": {},
     "output_type": "execute_result"
    }
   ],
   "source": [
    "t1d1 = odf[odf['eventat'] == ('thing1','date1')]['attendees']\n",
    "t1d1"
   ]
  },
  {
   "cell_type": "code",
   "execution_count": 140,
   "metadata": {},
   "outputs": [
    {
     "data": {
      "text/plain": [
       "['person1', 'person2', 'person3']"
      ]
     },
     "execution_count": 140,
     "metadata": {},
     "output_type": "execute_result"
    }
   ],
   "source": [
    "t1d1_people = list(t1d1[0].index)\n",
    "t1d1_people"
   ]
  },
  {
   "cell_type": "code",
   "execution_count": 57,
   "metadata": {},
   "outputs": [
    {
     "data": {
      "text/html": [
       "<div>\n",
       "<style scoped>\n",
       "    .dataframe tbody tr th:only-of-type {\n",
       "        vertical-align: middle;\n",
       "    }\n",
       "\n",
       "    .dataframe tbody tr th {\n",
       "        vertical-align: top;\n",
       "    }\n",
       "\n",
       "    .dataframe thead th {\n",
       "        text-align: right;\n",
       "    }\n",
       "</style>\n",
       "<table border=\"1\" class=\"dataframe\">\n",
       "  <thead>\n",
       "    <tr style=\"text-align: right;\">\n",
       "      <th></th>\n",
       "      <th>date</th>\n",
       "      <th>event</th>\n",
       "    </tr>\n",
       "    <tr>\n",
       "      <th>person</th>\n",
       "      <th></th>\n",
       "      <th></th>\n",
       "    </tr>\n",
       "  </thead>\n",
       "  <tbody>\n",
       "    <tr>\n",
       "      <th>person1</th>\n",
       "      <td>date1</td>\n",
       "      <td>thing1</td>\n",
       "    </tr>\n",
       "    <tr>\n",
       "      <th>person2</th>\n",
       "      <td>date1</td>\n",
       "      <td>thing1</td>\n",
       "    </tr>\n",
       "    <tr>\n",
       "      <th>person3</th>\n",
       "      <td>date1</td>\n",
       "      <td>thing1</td>\n",
       "    </tr>\n",
       "  </tbody>\n",
       "</table>\n",
       "</div>"
      ],
      "text/plain": [
       "          date   event\n",
       "person                \n",
       "person1  date1  thing1\n",
       "person2  date1  thing1\n",
       "person3  date1  thing1"
      ]
     },
     "execution_count": 57,
     "metadata": {},
     "output_type": "execute_result"
    }
   ],
   "source": [
    "x = odf[odf['eventat'] == ('thing1', 'date1')]['attendees'][0]\n",
    "x"
   ]
  },
  {
   "cell_type": "code",
   "execution_count": 63,
   "metadata": {},
   "outputs": [
    {
     "data": {
      "text/plain": [
       "Index(['date', 'event'], dtype='object')"
      ]
     },
     "execution_count": 63,
     "metadata": {},
     "output_type": "execute_result"
    }
   ],
   "source": [
    "x.keys()"
   ]
  },
  {
   "cell_type": "markdown",
   "metadata": {},
   "source": [
    "## how to extract person from ^^^?"
   ]
  },
  {
   "cell_type": "code",
   "execution_count": 41,
   "metadata": {},
   "outputs": [
    {
     "ename": "TypeError",
     "evalue": "Can only append a Series if ignore_index=True or if the Series has a name",
     "output_type": "error",
     "traceback": [
      "\u001b[0;31m---------------------------------------------------------------------------\u001b[0m",
      "\u001b[0;31mTypeError\u001b[0m                                 Traceback (most recent call last)",
      "\u001b[0;32m<ipython-input-41-0fc2305bac6f>\u001b[0m in \u001b[0;36m<module>\u001b[0;34m\u001b[0m\n\u001b[0;32m----> 1\u001b[0;31m \u001b[0modf\u001b[0m\u001b[0;34m.\u001b[0m\u001b[0mappend\u001b[0m\u001b[0;34m(\u001b[0m\u001b[0mprefs\u001b[0m\u001b[0;34m.\u001b[0m\u001b[0mgroupby\u001b[0m\u001b[0;34m(\u001b[0m\u001b[0;34m[\u001b[0m\u001b[0;34m'event'\u001b[0m\u001b[0;34m,\u001b[0m\u001b[0;34m'date'\u001b[0m\u001b[0;34m]\u001b[0m\u001b[0;34m)\u001b[0m\u001b[0;34m.\u001b[0m\u001b[0msize\u001b[0m\u001b[0;34m(\u001b[0m\u001b[0;34m)\u001b[0m\u001b[0;34m)\u001b[0m\u001b[0;34m\u001b[0m\u001b[0;34m\u001b[0m\u001b[0m\n\u001b[0m",
      "\u001b[0;32m~/.local/lib/python3.6/site-packages/pandas/core/frame.py\u001b[0m in \u001b[0;36mappend\u001b[0;34m(self, other, ignore_index, verify_integrity, sort)\u001b[0m\n\u001b[1;32m   7047\u001b[0m             \u001b[0;32mif\u001b[0m \u001b[0mother\u001b[0m\u001b[0;34m.\u001b[0m\u001b[0mname\u001b[0m \u001b[0;32mis\u001b[0m \u001b[0;32mNone\u001b[0m \u001b[0;32mand\u001b[0m \u001b[0;32mnot\u001b[0m \u001b[0mignore_index\u001b[0m\u001b[0;34m:\u001b[0m\u001b[0;34m\u001b[0m\u001b[0;34m\u001b[0m\u001b[0m\n\u001b[1;32m   7048\u001b[0m                 raise TypeError(\n\u001b[0;32m-> 7049\u001b[0;31m                     \u001b[0;34m\"Can only append a Series if ignore_index=True \"\u001b[0m\u001b[0;34m\u001b[0m\u001b[0;34m\u001b[0m\u001b[0m\n\u001b[0m\u001b[1;32m   7050\u001b[0m                     \u001b[0;34m\"or if the Series has a name\"\u001b[0m\u001b[0;34m\u001b[0m\u001b[0;34m\u001b[0m\u001b[0m\n\u001b[1;32m   7051\u001b[0m                 )\n",
      "\u001b[0;31mTypeError\u001b[0m: Can only append a Series if ignore_index=True or if the Series has a name"
     ]
    }
   ],
   "source": [
    "odf.append(prefs.groupby(['event','date']).size())"
   ]
  },
  {
   "cell_type": "code",
   "execution_count": null,
   "metadata": {},
   "outputs": [],
   "source": [
    "def interest_in(df, event):\n",
    "    return df['events'].apply(lambda v: event in v) \n",
    "\n",
    "def available_on(df, date):\n",
    "    return df['dates'].apply(lambda v: date in v)\n",
    "\n",
    "def attendees_for(df, event, date):\n",
    "    return df[interest_in(df, event) & available_on(df, date)]['person']\n",
    "\n",
    "def dates_for_event(df, event):\n",
    "    res = set()\n",
    "    for dates in df[interest_in(df, event)]['dates']:\n",
    "        res.update(set(dates))\n",
    "    return res\n"
   ]
  },
  {
   "cell_type": "code",
   "execution_count": null,
   "metadata": {},
   "outputs": [],
   "source": [
    "pd.MultiIndex.from_product([all_events,all_dates], names=['event', 'date'])"
   ]
  },
  {
   "cell_type": "code",
   "execution_count": null,
   "metadata": {},
   "outputs": [],
   "source": [
    "event = 'thing1'\n",
    "df[interest_in(df, event)]"
   ]
  },
  {
   "cell_type": "code",
   "execution_count": null,
   "metadata": {},
   "outputs": [],
   "source": [
    "\t\"\"\"\n",
    "\tgoal: figure out which combinations of people+date+event would have the best attendance.\n",
    "\t\t\n",
    "\tfor any \"event\" with interest above a threshold, show the date that works for the most people, then re-check the threshold and remove if not met.\n",
    "\n",
    "\t- group people by interest in event\n",
    "\t- remove events with total interest below threshold\n",
    "\t- for each remaining event:\n",
    "\t\t- collect people interested in event, grouped by date\n",
    "\t\t- remove event if max(group_lens) < thresh\n",
    "        \n",
    "    so we want:\n",
    "    Series((date, event, (person1,person2,...)),...)\n",
    "\t\"\"\""
   ]
  },
  {
   "cell_type": "code",
   "execution_count": null,
   "metadata": {},
   "outputs": [],
   "source": [
    "attendance_data = []\n",
    "for date in all_dates:\n",
    "    for event in all_events:\n",
    "        available_on(df,'date1')"
   ]
  },
  {
   "cell_type": "code",
   "execution_count": null,
   "metadata": {},
   "outputs": [],
   "source": [
    "attendance = []\n",
    "for event in all_events:\n",
    "    for date in dates_for_event(df, event):\n",
    "        attendance.append((event, date, attendees_for(df,event,date)))\n",
    "        \n",
    "\n",
    "pd.DataFrame(attendance, columns=('event','date','people'))"
   ]
  },
  {
   "cell_type": "code",
   "execution_count": null,
   "metadata": {},
   "outputs": [],
   "source": [
    "s1 = pd.Series([\"a\",\"b\"])\n",
    "s2 = pd.Series([\"c\",\"d\",\"e\"])\n",
    "d = pd.DataFrame([s1,s2])\n",
    "d"
   ]
  },
  {
   "cell_type": "code",
   "execution_count": null,
   "metadata": {},
   "outputs": [],
   "source": [
    "s1 = pd.Series(((\"person1\",\"person2\"),), index=[\"thing1\",\"date1\"])\n",
    "s1"
   ]
  },
  {
   "cell_type": "code",
   "execution_count": null,
   "metadata": {},
   "outputs": [],
   "source": [
    "cols = pd.MultiIndex.from_product((all_events, all_dates))\n",
    "[ [a.upper(),b] for a,b in index.values ]\n"
   ]
  },
  {
   "cell_type": "code",
   "execution_count": null,
   "metadata": {},
   "outputs": [],
   "source": []
  },
  {
   "cell_type": "code",
   "execution_count": null,
   "metadata": {},
   "outputs": [],
   "source": [
    "rows = all_people\n",
    "table = pd.DataFrame(np.random.randn(3, 16), index=rows, columns=cols)\n",
    "table"
   ]
  },
  {
   "cell_type": "code",
   "execution_count": null,
   "metadata": {},
   "outputs": [],
   "source": [
    "df['thing1'][\"date1\"]['person1']"
   ]
  },
  {
   "cell_type": "code",
   "execution_count": null,
   "metadata": {},
   "outputs": [],
   "source": [
    "form = df\n",
    "\n",
    "for event, date in index.values:\n",
    "    for person in form[interest_in(form,event) & available_on(form,date)]['person'].values:\n",
    "        table.loc(event, date, person) = True\n",
    "    \n",
    "#form[interest_in(form,'thing1') & available_on(form,'date1')]['person'].values\n",
    "table\n",
    "\n",
    "#form[interest_in(form,event) & available_on(form,event)]"
   ]
  }
 ],
 "metadata": {
  "kernelspec": {
   "display_name": "Python 3",
   "language": "python",
   "name": "python3"
  },
  "language_info": {
   "codemirror_mode": {
    "name": "ipython",
    "version": 3
   },
   "file_extension": ".py",
   "mimetype": "text/x-python",
   "name": "python",
   "nbconvert_exporter": "python",
   "pygments_lexer": "ipython3",
   "version": "3.6.9"
  }
 },
 "nbformat": 4,
 "nbformat_minor": 4
}
