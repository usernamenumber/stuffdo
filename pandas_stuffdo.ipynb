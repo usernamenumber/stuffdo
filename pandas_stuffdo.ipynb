{
 "cells": [
  {
   "cell_type": "code",
   "execution_count": 194,
   "metadata": {},
   "outputs": [],
   "source": [
    "import pandas as pd\n",
    "import numpy as np"
   ]
  },
  {
   "cell_type": "code",
   "execution_count": 195,
   "metadata": {},
   "outputs": [
    {
     "output_type": "execute_result",
     "data": {
      "text/plain": "    person                  dates                            events notes\n0  person1         (date1, date4)                  (thing1, thing3)      \n1  person2         (date1, date2)                  (thing1, thing2)      \n2  person3  (date1, date2, date3)  (thing1, thing2, thing3, thing4)      ",
      "text/html": "<div>\n<style scoped>\n    .dataframe tbody tr th:only-of-type {\n        vertical-align: middle;\n    }\n\n    .dataframe tbody tr th {\n        vertical-align: top;\n    }\n\n    .dataframe thead th {\n        text-align: right;\n    }\n</style>\n<table border=\"1\" class=\"dataframe\">\n  <thead>\n    <tr style=\"text-align: right;\">\n      <th></th>\n      <th>person</th>\n      <th>dates</th>\n      <th>events</th>\n      <th>notes</th>\n    </tr>\n  </thead>\n  <tbody>\n    <tr>\n      <th>0</th>\n      <td>person1</td>\n      <td>(date1, date4)</td>\n      <td>(thing1, thing3)</td>\n      <td></td>\n    </tr>\n    <tr>\n      <th>1</th>\n      <td>person2</td>\n      <td>(date1, date2)</td>\n      <td>(thing1, thing2)</td>\n      <td></td>\n    </tr>\n    <tr>\n      <th>2</th>\n      <td>person3</td>\n      <td>(date1, date2, date3)</td>\n      <td>(thing1, thing2, thing3, thing4)</td>\n      <td></td>\n    </tr>\n  </tbody>\n</table>\n</div>"
     },
     "metadata": {},
     "execution_count": 195
    }
   ],
   "source": [
    "all_events = ['thing{}'.format(i) for i in range(1,5)]\n",
    "all_dates  = ['date{}'.format(i) for i in range(1,5)]\n",
    "\n",
    "form_data = [\n",
    "    {\n",
    "            'person':   'person1',\n",
    "            'dates':  (\"date1\", \"date4\"),\n",
    "            'events': (\"thing1\", \"thing3\"),\n",
    "            'notes':  '',\n",
    "    },\n",
    "    {\n",
    "            'person':  'person2',\n",
    "            'dates':  (\"date1\", \"date2\"),\n",
    "            'events': (\"thing1\", \"thing2\"),\n",
    "            'notes':  '',\n",
    "    },\n",
    "    {\n",
    "            'person': 'person3',\n",
    "            'dates':  (\"date1\", \"date2\", \"date3\"),\n",
    "            'events':  (\"thing1\", \"thing2\", \"thing3\", \"thing4\"),\n",
    "            'notes':  '',\n",
    "    },\n",
    "]\n",
    "\n",
    "\n",
    "df = pd.DataFrame.from_records(form_data)\n",
    "all_people = [ p['person'] for p in form_data ]\n",
    "df"
   ]
  },
  {
   "cell_type": "code",
   "execution_count": 196,
   "metadata": {},
   "outputs": [
    {
     "output_type": "execute_result",
     "data": {
      "text/plain": "          date\nperson        \nperson1  date1\nperson1  date4\nperson2  date1\nperson2  date2\nperson3  date1\nperson3  date2\nperson3  date3",
      "text/html": "<div>\n<style scoped>\n    .dataframe tbody tr th:only-of-type {\n        vertical-align: middle;\n    }\n\n    .dataframe tbody tr th {\n        vertical-align: top;\n    }\n\n    .dataframe thead th {\n        text-align: right;\n    }\n</style>\n<table border=\"1\" class=\"dataframe\">\n  <thead>\n    <tr style=\"text-align: right;\">\n      <th></th>\n      <th>date</th>\n    </tr>\n    <tr>\n      <th>person</th>\n      <th></th>\n    </tr>\n  </thead>\n  <tbody>\n    <tr>\n      <th>person1</th>\n      <td>date1</td>\n    </tr>\n    <tr>\n      <th>person1</th>\n      <td>date4</td>\n    </tr>\n    <tr>\n      <th>person2</th>\n      <td>date1</td>\n    </tr>\n    <tr>\n      <th>person2</th>\n      <td>date2</td>\n    </tr>\n    <tr>\n      <th>person3</th>\n      <td>date1</td>\n    </tr>\n    <tr>\n      <th>person3</th>\n      <td>date2</td>\n    </tr>\n    <tr>\n      <th>person3</th>\n      <td>date3</td>\n    </tr>\n  </tbody>\n</table>\n</div>"
     },
     "metadata": {},
     "execution_count": 196
    }
   ],
   "source": [
    "\n",
    "date_tuples = []\n",
    "for d in form_data:\n",
    "    person = d['person']\n",
    "    dates = d['dates']\n",
    "    date_tuples += [(person, date) for date in dates]\n",
    "availability = pd.DataFrame(date_tuples, columns=('person','date')).set_index('person')\n",
    "availability"
   ]
  },
  {
   "cell_type": "markdown",
   "metadata": {},
   "source": [
    "person, dates tuples\n",
    "person, events tuples\n",
    "join those on person, group by event,date\n",
    "\n",
    "use antijoin to remove options as events are scheduled\n",
    "\n",
    "look up pd.pivot, pivot_values\n",
    "\n",
    "np book array where rows sum to 1\n",
    "prob too fancy: dynamic programming matrix"
   ]
  },
  {
   "cell_type": "code",
   "execution_count": 197,
   "metadata": {},
   "outputs": [
    {
     "output_type": "execute_result",
     "data": {
      "text/plain": "          event\nperson         \nperson1  thing1\nperson1  thing3\nperson2  thing1\nperson2  thing2\nperson3  thing1\nperson3  thing2\nperson3  thing3\nperson3  thing4",
      "text/html": "<div>\n<style scoped>\n    .dataframe tbody tr th:only-of-type {\n        vertical-align: middle;\n    }\n\n    .dataframe tbody tr th {\n        vertical-align: top;\n    }\n\n    .dataframe thead th {\n        text-align: right;\n    }\n</style>\n<table border=\"1\" class=\"dataframe\">\n  <thead>\n    <tr style=\"text-align: right;\">\n      <th></th>\n      <th>event</th>\n    </tr>\n    <tr>\n      <th>person</th>\n      <th></th>\n    </tr>\n  </thead>\n  <tbody>\n    <tr>\n      <th>person1</th>\n      <td>thing1</td>\n    </tr>\n    <tr>\n      <th>person1</th>\n      <td>thing3</td>\n    </tr>\n    <tr>\n      <th>person2</th>\n      <td>thing1</td>\n    </tr>\n    <tr>\n      <th>person2</th>\n      <td>thing2</td>\n    </tr>\n    <tr>\n      <th>person3</th>\n      <td>thing1</td>\n    </tr>\n    <tr>\n      <th>person3</th>\n      <td>thing2</td>\n    </tr>\n    <tr>\n      <th>person3</th>\n      <td>thing3</td>\n    </tr>\n    <tr>\n      <th>person3</th>\n      <td>thing4</td>\n    </tr>\n  </tbody>\n</table>\n</div>"
     },
     "metadata": {},
     "execution_count": 197
    }
   ],
   "source": [
    "event_tuples = []\n",
    "for d in form_data:\n",
    "    person = d['person']\n",
    "    events = d['events']\n",
    "    event_tuples += [(person, event) for event in events]\n",
    "interest = pd.DataFrame(event_tuples, columns=('person','event')).set_index('person')\n",
    "interest"
   ]
  },
  {
   "cell_type": "code",
   "execution_count": 198,
   "metadata": {},
   "outputs": [
    {
     "output_type": "execute_result",
     "data": {
      "text/plain": "     person   date   event\n0   person1  date1  thing1\n1   person1  date1  thing3\n2   person1  date4  thing1\n3   person1  date4  thing3\n4   person2  date1  thing1\n5   person2  date1  thing2\n6   person2  date2  thing1\n7   person2  date2  thing2\n8   person3  date1  thing1\n9   person3  date1  thing2\n10  person3  date1  thing3\n11  person3  date1  thing4\n12  person3  date2  thing1\n13  person3  date2  thing2\n14  person3  date2  thing3\n15  person3  date2  thing4\n16  person3  date3  thing1\n17  person3  date3  thing2\n18  person3  date3  thing3\n19  person3  date3  thing4",
      "text/html": "<div>\n<style scoped>\n    .dataframe tbody tr th:only-of-type {\n        vertical-align: middle;\n    }\n\n    .dataframe tbody tr th {\n        vertical-align: top;\n    }\n\n    .dataframe thead th {\n        text-align: right;\n    }\n</style>\n<table border=\"1\" class=\"dataframe\">\n  <thead>\n    <tr style=\"text-align: right;\">\n      <th></th>\n      <th>person</th>\n      <th>date</th>\n      <th>event</th>\n    </tr>\n  </thead>\n  <tbody>\n    <tr>\n      <th>0</th>\n      <td>person1</td>\n      <td>date1</td>\n      <td>thing1</td>\n    </tr>\n    <tr>\n      <th>1</th>\n      <td>person1</td>\n      <td>date1</td>\n      <td>thing3</td>\n    </tr>\n    <tr>\n      <th>2</th>\n      <td>person1</td>\n      <td>date4</td>\n      <td>thing1</td>\n    </tr>\n    <tr>\n      <th>3</th>\n      <td>person1</td>\n      <td>date4</td>\n      <td>thing3</td>\n    </tr>\n    <tr>\n      <th>4</th>\n      <td>person2</td>\n      <td>date1</td>\n      <td>thing1</td>\n    </tr>\n    <tr>\n      <th>5</th>\n      <td>person2</td>\n      <td>date1</td>\n      <td>thing2</td>\n    </tr>\n    <tr>\n      <th>6</th>\n      <td>person2</td>\n      <td>date2</td>\n      <td>thing1</td>\n    </tr>\n    <tr>\n      <th>7</th>\n      <td>person2</td>\n      <td>date2</td>\n      <td>thing2</td>\n    </tr>\n    <tr>\n      <th>8</th>\n      <td>person3</td>\n      <td>date1</td>\n      <td>thing1</td>\n    </tr>\n    <tr>\n      <th>9</th>\n      <td>person3</td>\n      <td>date1</td>\n      <td>thing2</td>\n    </tr>\n    <tr>\n      <th>10</th>\n      <td>person3</td>\n      <td>date1</td>\n      <td>thing3</td>\n    </tr>\n    <tr>\n      <th>11</th>\n      <td>person3</td>\n      <td>date1</td>\n      <td>thing4</td>\n    </tr>\n    <tr>\n      <th>12</th>\n      <td>person3</td>\n      <td>date2</td>\n      <td>thing1</td>\n    </tr>\n    <tr>\n      <th>13</th>\n      <td>person3</td>\n      <td>date2</td>\n      <td>thing2</td>\n    </tr>\n    <tr>\n      <th>14</th>\n      <td>person3</td>\n      <td>date2</td>\n      <td>thing3</td>\n    </tr>\n    <tr>\n      <th>15</th>\n      <td>person3</td>\n      <td>date2</td>\n      <td>thing4</td>\n    </tr>\n    <tr>\n      <th>16</th>\n      <td>person3</td>\n      <td>date3</td>\n      <td>thing1</td>\n    </tr>\n    <tr>\n      <th>17</th>\n      <td>person3</td>\n      <td>date3</td>\n      <td>thing2</td>\n    </tr>\n    <tr>\n      <th>18</th>\n      <td>person3</td>\n      <td>date3</td>\n      <td>thing3</td>\n    </tr>\n    <tr>\n      <th>19</th>\n      <td>person3</td>\n      <td>date3</td>\n      <td>thing4</td>\n    </tr>\n  </tbody>\n</table>\n</div>"
     },
     "metadata": {},
     "execution_count": 198
    }
   ],
   "source": [
    "prefs = availability.join(interest).reset_index()\n",
    "prefs\n"
   ]
  },
  {
   "cell_type": "markdown",
   "metadata": {},
   "source": [
    "# Scoring algorithm\n",
    "## Per-attendee component\n",
    "- Higher the fewer other dates on which this attendee could attend this event\n",
    "- Higher the fewer other events in which this attendee is interested\n",
    "\n",
    "## Per-date component\n",
    "- Higher the greater the % of people interested in this event are available on this date\n",
    "- Higher the fewer other events can run on this date\n",
    "\n",
    "## Per-event component \n",
    "- Higher the fewer other dates on which this event could run\n",
    "\n",
    "\n",
    "1. For each event+date pair, calculate a score factoring in all of the above\n",
    " 1. Select top-scoring event+date\n",
    " 2. Remove ^^^\n",
    " 3. Repeat"
   ]
  },
  {
   "cell_type": "code",
   "execution_count": 199,
   "metadata": {},
   "outputs": [
    {
     "output_type": "execute_result",
     "data": {
      "text/plain": "{'date1', 'date2', 'date3', 'date4'}"
     },
     "metadata": {},
     "execution_count": 199
    }
   ],
   "source": [
    "def people_for_event(event):\n",
    "    return set(prefs[prefs['event'] == event]['person'])\n",
    "\n",
    "def people_for_event_date(event, date):\n",
    "    return set(prefs[(prefs['date'] == date) & (prefs['event'] == event)]['person'])\n",
    "\n",
    "def dates_for_event_person(event, person):\n",
    "    return set(prefs[(prefs['event'] == event) & (prefs['person'] == person)]['date'])\n",
    "\n",
    "def events_for_person(person):\n",
    "    return set(prefs[prefs['person'] == person]['event'])\n",
    "\n",
    "def dates_for_person(person):\n",
    "    return set(prefs[prefs['person'] == person]['date'])\n",
    "\n",
    "def dates_for_event(event):\n",
    "    \"\"\"\n",
    "    Note that this does not return dates an event could run but in which 0 people expressed interest\n",
    "    \"\"\"\n",
    "    return set(prefs[prefs['event'] == event]['date'])\n",
    "\n",
    "def score(event, date):\n",
    "    # Higher the fewer other dates on which this attendee could attend this event\n",
    "\n",
    "\n",
    "    # Higher the fewer other events in which this attendee is interested\n",
    "    pass\n",
    "\n",
    "people_for_event_date('thing1','date1')\n",
    "dates_for_event_person('thing1','person1')\n",
    "events_for_person('person3')\n",
    "dates_for_event('thing1')\n"
   ]
  },
  {
   "cell_type": "code",
   "execution_count": 207,
   "metadata": {},
   "outputs": [
    {
     "output_type": "execute_result",
     "data": {
      "text/plain": "    other_dates_score  other_events_score\n0            0.500000                0.50\n1            0.500000                0.50\n2            0.500000                0.50\n3            0.500000                0.50\n4            0.500000                0.50\n5            0.500000                0.50\n6            0.500000                0.50\n7            0.500000                0.50\n8            0.333333                0.25\n9            0.333333                0.25\n10           0.333333                0.25\n11           0.333333                0.25\n12           0.333333                0.25\n13           0.333333                0.25\n14           0.333333                0.25\n15           0.333333                0.25\n16           0.333333                0.25\n17           0.333333                0.25\n18           0.333333                0.25\n19           0.333333                0.25",
      "text/html": "<div>\n<style scoped>\n    .dataframe tbody tr th:only-of-type {\n        vertical-align: middle;\n    }\n\n    .dataframe tbody tr th {\n        vertical-align: top;\n    }\n\n    .dataframe thead th {\n        text-align: right;\n    }\n</style>\n<table border=\"1\" class=\"dataframe\">\n  <thead>\n    <tr style=\"text-align: right;\">\n      <th></th>\n      <th>other_dates_score</th>\n      <th>other_events_score</th>\n    </tr>\n  </thead>\n  <tbody>\n    <tr>\n      <th>0</th>\n      <td>0.500000</td>\n      <td>0.50</td>\n    </tr>\n    <tr>\n      <th>1</th>\n      <td>0.500000</td>\n      <td>0.50</td>\n    </tr>\n    <tr>\n      <th>2</th>\n      <td>0.500000</td>\n      <td>0.50</td>\n    </tr>\n    <tr>\n      <th>3</th>\n      <td>0.500000</td>\n      <td>0.50</td>\n    </tr>\n    <tr>\n      <th>4</th>\n      <td>0.500000</td>\n      <td>0.50</td>\n    </tr>\n    <tr>\n      <th>5</th>\n      <td>0.500000</td>\n      <td>0.50</td>\n    </tr>\n    <tr>\n      <th>6</th>\n      <td>0.500000</td>\n      <td>0.50</td>\n    </tr>\n    <tr>\n      <th>7</th>\n      <td>0.500000</td>\n      <td>0.50</td>\n    </tr>\n    <tr>\n      <th>8</th>\n      <td>0.333333</td>\n      <td>0.25</td>\n    </tr>\n    <tr>\n      <th>9</th>\n      <td>0.333333</td>\n      <td>0.25</td>\n    </tr>\n    <tr>\n      <th>10</th>\n      <td>0.333333</td>\n      <td>0.25</td>\n    </tr>\n    <tr>\n      <th>11</th>\n      <td>0.333333</td>\n      <td>0.25</td>\n    </tr>\n    <tr>\n      <th>12</th>\n      <td>0.333333</td>\n      <td>0.25</td>\n    </tr>\n    <tr>\n      <th>13</th>\n      <td>0.333333</td>\n      <td>0.25</td>\n    </tr>\n    <tr>\n      <th>14</th>\n      <td>0.333333</td>\n      <td>0.25</td>\n    </tr>\n    <tr>\n      <th>15</th>\n      <td>0.333333</td>\n      <td>0.25</td>\n    </tr>\n    <tr>\n      <th>16</th>\n      <td>0.333333</td>\n      <td>0.25</td>\n    </tr>\n    <tr>\n      <th>17</th>\n      <td>0.333333</td>\n      <td>0.25</td>\n    </tr>\n    <tr>\n      <th>18</th>\n      <td>0.333333</td>\n      <td>0.25</td>\n    </tr>\n    <tr>\n      <th>19</th>\n      <td>0.333333</td>\n      <td>0.25</td>\n    </tr>\n  </tbody>\n</table>\n</div>"
     },
     "metadata": {},
     "execution_count": 207
    }
   ],
   "source": [
    "scores = pd.DataFrame()\n",
    "scores['other_dates_score'] = prefs.apply(lambda p: 1.0 / len(dates_for_event_person(p['event'], p['person'])), axis=1) \n",
    "scores['other_events_score'] = prefs.apply(lambda p: 1.0 / len(events_for_person(p['person'])), axis=1) \n",
    "scores\n"
   ]
  },
  {
   "cell_type": "code",
   "execution_count": 212,
   "metadata": {},
   "outputs": [
    {
     "output_type": "execute_result",
     "data": {
      "text/plain": "    other_dates_score  other_events_score\n0            0.500000                0.50\n1            0.500000                0.50\n2            0.500000                0.50\n3            0.500000                0.50\n4            0.500000                0.50\n5            0.500000                0.50\n6            0.500000                0.50\n7            0.500000                0.50\n8            0.333333                0.25\n9            0.333333                0.25\n10           0.333333                0.25\n11           0.333333                0.25\n12           0.333333                0.25\n13           0.333333                0.25\n14           0.333333                0.25\n15           0.333333                0.25\n16           0.333333                0.25\n17           0.333333                0.25\n18           0.333333                0.25\n19           0.333333                0.25",
      "text/html": "<div>\n<style scoped>\n    .dataframe tbody tr th:only-of-type {\n        vertical-align: middle;\n    }\n\n    .dataframe tbody tr th {\n        vertical-align: top;\n    }\n\n    .dataframe thead th {\n        text-align: right;\n    }\n</style>\n<table border=\"1\" class=\"dataframe\">\n  <thead>\n    <tr style=\"text-align: right;\">\n      <th></th>\n      <th>other_dates_score</th>\n      <th>other_events_score</th>\n    </tr>\n  </thead>\n  <tbody>\n    <tr>\n      <th>0</th>\n      <td>0.500000</td>\n      <td>0.50</td>\n    </tr>\n    <tr>\n      <th>1</th>\n      <td>0.500000</td>\n      <td>0.50</td>\n    </tr>\n    <tr>\n      <th>2</th>\n      <td>0.500000</td>\n      <td>0.50</td>\n    </tr>\n    <tr>\n      <th>3</th>\n      <td>0.500000</td>\n      <td>0.50</td>\n    </tr>\n    <tr>\n      <th>4</th>\n      <td>0.500000</td>\n      <td>0.50</td>\n    </tr>\n    <tr>\n      <th>5</th>\n      <td>0.500000</td>\n      <td>0.50</td>\n    </tr>\n    <tr>\n      <th>6</th>\n      <td>0.500000</td>\n      <td>0.50</td>\n    </tr>\n    <tr>\n      <th>7</th>\n      <td>0.500000</td>\n      <td>0.50</td>\n    </tr>\n    <tr>\n      <th>8</th>\n      <td>0.333333</td>\n      <td>0.25</td>\n    </tr>\n    <tr>\n      <th>9</th>\n      <td>0.333333</td>\n      <td>0.25</td>\n    </tr>\n    <tr>\n      <th>10</th>\n      <td>0.333333</td>\n      <td>0.25</td>\n    </tr>\n    <tr>\n      <th>11</th>\n      <td>0.333333</td>\n      <td>0.25</td>\n    </tr>\n    <tr>\n      <th>12</th>\n      <td>0.333333</td>\n      <td>0.25</td>\n    </tr>\n    <tr>\n      <th>13</th>\n      <td>0.333333</td>\n      <td>0.25</td>\n    </tr>\n    <tr>\n      <th>14</th>\n      <td>0.333333</td>\n      <td>0.25</td>\n    </tr>\n    <tr>\n      <th>15</th>\n      <td>0.333333</td>\n      <td>0.25</td>\n    </tr>\n    <tr>\n      <th>16</th>\n      <td>0.333333</td>\n      <td>0.25</td>\n    </tr>\n    <tr>\n      <th>17</th>\n      <td>0.333333</td>\n      <td>0.25</td>\n    </tr>\n    <tr>\n      <th>18</th>\n      <td>0.333333</td>\n      <td>0.25</td>\n    </tr>\n    <tr>\n      <th>19</th>\n      <td>0.333333</td>\n      <td>0.25</td>\n    </tr>\n  </tbody>\n</table>\n</div>"
     },
     "metadata": {},
     "execution_count": 212
    }
   ],
   "source": [
    "\"\"\"\n",
    "Higher the fewer other dates on which this attendee could attend this event\n",
    "Higher the fewer other events in which this attendee is interested\n",
    "\"\"\"\n",
    "\n",
    "scores['other_dates_score'] = prefs.apply(lambda p: 1.0 / len(dates_for_event_person(p['event'], p['person'])), axis=1) \n",
    "scores['other_events_score'] = prefs.apply(lambda p: 1.0 / len(events_for_person(p['person'])), axis=1) \n",
    "scores\n"
   ]
  },
  {
   "cell_type": "code",
   "execution_count": 213,
   "metadata": {},
   "outputs": [
    {
     "output_type": "execute_result",
     "data": {
      "text/plain": "    other_dates_score  other_events_score  other_interest_score  \\\n0            0.500000                0.50              1.000000   \n1            0.500000                0.50              1.000000   \n2            0.500000                0.50              0.333333   \n3            0.500000                0.50              0.500000   \n4            0.500000                0.50              1.000000   \n5            0.500000                0.50              1.000000   \n6            0.500000                0.50              0.666667   \n7            0.500000                0.50              1.000000   \n8            0.333333                0.25              1.000000   \n9            0.333333                0.25              1.000000   \n10           0.333333                0.25              1.000000   \n11           0.333333                0.25              1.000000   \n12           0.333333                0.25              0.666667   \n13           0.333333                0.25              1.000000   \n14           0.333333                0.25              0.500000   \n15           0.333333                0.25              1.000000   \n16           0.333333                0.25              0.333333   \n17           0.333333                0.25              0.500000   \n18           0.333333                0.25              0.500000   \n19           0.333333                0.25              1.000000   \n\n    date_competition_score  \n0                 0.250000  \n1                 0.250000  \n2                 0.250000  \n3                 0.250000  \n4                 0.250000  \n5                 0.333333  \n6                 0.250000  \n7                 0.333333  \n8                 0.250000  \n9                 0.333333  \n10                0.250000  \n11                0.333333  \n12                0.250000  \n13                0.333333  \n14                0.250000  \n15                0.333333  \n16                0.250000  \n17                0.333333  \n18                0.250000  \n19                0.333333  ",
      "text/html": "<div>\n<style scoped>\n    .dataframe tbody tr th:only-of-type {\n        vertical-align: middle;\n    }\n\n    .dataframe tbody tr th {\n        vertical-align: top;\n    }\n\n    .dataframe thead th {\n        text-align: right;\n    }\n</style>\n<table border=\"1\" class=\"dataframe\">\n  <thead>\n    <tr style=\"text-align: right;\">\n      <th></th>\n      <th>other_dates_score</th>\n      <th>other_events_score</th>\n      <th>other_interest_score</th>\n      <th>date_competition_score</th>\n    </tr>\n  </thead>\n  <tbody>\n    <tr>\n      <th>0</th>\n      <td>0.500000</td>\n      <td>0.50</td>\n      <td>1.000000</td>\n      <td>0.250000</td>\n    </tr>\n    <tr>\n      <th>1</th>\n      <td>0.500000</td>\n      <td>0.50</td>\n      <td>1.000000</td>\n      <td>0.250000</td>\n    </tr>\n    <tr>\n      <th>2</th>\n      <td>0.500000</td>\n      <td>0.50</td>\n      <td>0.333333</td>\n      <td>0.250000</td>\n    </tr>\n    <tr>\n      <th>3</th>\n      <td>0.500000</td>\n      <td>0.50</td>\n      <td>0.500000</td>\n      <td>0.250000</td>\n    </tr>\n    <tr>\n      <th>4</th>\n      <td>0.500000</td>\n      <td>0.50</td>\n      <td>1.000000</td>\n      <td>0.250000</td>\n    </tr>\n    <tr>\n      <th>5</th>\n      <td>0.500000</td>\n      <td>0.50</td>\n      <td>1.000000</td>\n      <td>0.333333</td>\n    </tr>\n    <tr>\n      <th>6</th>\n      <td>0.500000</td>\n      <td>0.50</td>\n      <td>0.666667</td>\n      <td>0.250000</td>\n    </tr>\n    <tr>\n      <th>7</th>\n      <td>0.500000</td>\n      <td>0.50</td>\n      <td>1.000000</td>\n      <td>0.333333</td>\n    </tr>\n    <tr>\n      <th>8</th>\n      <td>0.333333</td>\n      <td>0.25</td>\n      <td>1.000000</td>\n      <td>0.250000</td>\n    </tr>\n    <tr>\n      <th>9</th>\n      <td>0.333333</td>\n      <td>0.25</td>\n      <td>1.000000</td>\n      <td>0.333333</td>\n    </tr>\n    <tr>\n      <th>10</th>\n      <td>0.333333</td>\n      <td>0.25</td>\n      <td>1.000000</td>\n      <td>0.250000</td>\n    </tr>\n    <tr>\n      <th>11</th>\n      <td>0.333333</td>\n      <td>0.25</td>\n      <td>1.000000</td>\n      <td>0.333333</td>\n    </tr>\n    <tr>\n      <th>12</th>\n      <td>0.333333</td>\n      <td>0.25</td>\n      <td>0.666667</td>\n      <td>0.250000</td>\n    </tr>\n    <tr>\n      <th>13</th>\n      <td>0.333333</td>\n      <td>0.25</td>\n      <td>1.000000</td>\n      <td>0.333333</td>\n    </tr>\n    <tr>\n      <th>14</th>\n      <td>0.333333</td>\n      <td>0.25</td>\n      <td>0.500000</td>\n      <td>0.250000</td>\n    </tr>\n    <tr>\n      <th>15</th>\n      <td>0.333333</td>\n      <td>0.25</td>\n      <td>1.000000</td>\n      <td>0.333333</td>\n    </tr>\n    <tr>\n      <th>16</th>\n      <td>0.333333</td>\n      <td>0.25</td>\n      <td>0.333333</td>\n      <td>0.250000</td>\n    </tr>\n    <tr>\n      <th>17</th>\n      <td>0.333333</td>\n      <td>0.25</td>\n      <td>0.500000</td>\n      <td>0.333333</td>\n    </tr>\n    <tr>\n      <th>18</th>\n      <td>0.333333</td>\n      <td>0.25</td>\n      <td>0.500000</td>\n      <td>0.250000</td>\n    </tr>\n    <tr>\n      <th>19</th>\n      <td>0.333333</td>\n      <td>0.25</td>\n      <td>1.000000</td>\n      <td>0.333333</td>\n    </tr>\n  </tbody>\n</table>\n</div>"
     },
     "metadata": {},
     "execution_count": 213
    }
   ],
   "source": [
    "\"\"\"\n",
    "Higher the greater the % of people interested in this event are available on this date\n",
    "Higher the fewer other events can run on this date\n",
    "\"\"\"\n",
    "scores['other_interest_score'] = prefs.apply(lambda p: len(people_for_event_date(p['event'], p['date'])) / len(people_for_event(p['event'])), axis=1)\n",
    "scores['date_competition_score'] = prefs.apply(lambda p: 1/len(dates_for_event(p['event'])), axis=1)\n",
    "scores"
   ]
  },
  {
   "cell_type": "code",
   "execution_count": 214,
   "metadata": {},
   "outputs": [
    {
     "output_type": "execute_result",
     "data": {
      "text/plain": "              other_dates_score  other_events_score  other_interest_score  \\\ndate  event                                                                 \ndate1 thing1           0.444444            0.416667              1.000000   \n      thing2           0.416667            0.375000              1.000000   \n      thing3           0.416667            0.375000              1.000000   \n      thing4           0.333333            0.250000              1.000000   \ndate2 thing1           0.416667            0.375000              0.666667   \n      thing2           0.416667            0.375000              1.000000   \n      thing3           0.333333            0.250000              0.500000   \n      thing4           0.333333            0.250000              1.000000   \ndate3 thing1           0.333333            0.250000              0.333333   \n      thing2           0.333333            0.250000              0.500000   \n      thing3           0.333333            0.250000              0.500000   \n      thing4           0.333333            0.250000              1.000000   \ndate4 thing1           0.500000            0.500000              0.333333   \n      thing3           0.500000            0.500000              0.500000   \n\n              date_competition_score  \ndate  event                           \ndate1 thing1                0.250000  \n      thing2                0.333333  \n      thing3                0.250000  \n      thing4                0.333333  \ndate2 thing1                0.250000  \n      thing2                0.333333  \n      thing3                0.250000  \n      thing4                0.333333  \ndate3 thing1                0.250000  \n      thing2                0.333333  \n      thing3                0.250000  \n      thing4                0.333333  \ndate4 thing1                0.250000  \n      thing3                0.250000  ",
      "text/html": "<div>\n<style scoped>\n    .dataframe tbody tr th:only-of-type {\n        vertical-align: middle;\n    }\n\n    .dataframe tbody tr th {\n        vertical-align: top;\n    }\n\n    .dataframe thead th {\n        text-align: right;\n    }\n</style>\n<table border=\"1\" class=\"dataframe\">\n  <thead>\n    <tr style=\"text-align: right;\">\n      <th></th>\n      <th></th>\n      <th>other_dates_score</th>\n      <th>other_events_score</th>\n      <th>other_interest_score</th>\n      <th>date_competition_score</th>\n    </tr>\n    <tr>\n      <th>date</th>\n      <th>event</th>\n      <th></th>\n      <th></th>\n      <th></th>\n      <th></th>\n    </tr>\n  </thead>\n  <tbody>\n    <tr>\n      <th rowspan=\"4\" valign=\"top\">date1</th>\n      <th>thing1</th>\n      <td>0.444444</td>\n      <td>0.416667</td>\n      <td>1.000000</td>\n      <td>0.250000</td>\n    </tr>\n    <tr>\n      <th>thing2</th>\n      <td>0.416667</td>\n      <td>0.375000</td>\n      <td>1.000000</td>\n      <td>0.333333</td>\n    </tr>\n    <tr>\n      <th>thing3</th>\n      <td>0.416667</td>\n      <td>0.375000</td>\n      <td>1.000000</td>\n      <td>0.250000</td>\n    </tr>\n    <tr>\n      <th>thing4</th>\n      <td>0.333333</td>\n      <td>0.250000</td>\n      <td>1.000000</td>\n      <td>0.333333</td>\n    </tr>\n    <tr>\n      <th rowspan=\"4\" valign=\"top\">date2</th>\n      <th>thing1</th>\n      <td>0.416667</td>\n      <td>0.375000</td>\n      <td>0.666667</td>\n      <td>0.250000</td>\n    </tr>\n    <tr>\n      <th>thing2</th>\n      <td>0.416667</td>\n      <td>0.375000</td>\n      <td>1.000000</td>\n      <td>0.333333</td>\n    </tr>\n    <tr>\n      <th>thing3</th>\n      <td>0.333333</td>\n      <td>0.250000</td>\n      <td>0.500000</td>\n      <td>0.250000</td>\n    </tr>\n    <tr>\n      <th>thing4</th>\n      <td>0.333333</td>\n      <td>0.250000</td>\n      <td>1.000000</td>\n      <td>0.333333</td>\n    </tr>\n    <tr>\n      <th rowspan=\"4\" valign=\"top\">date3</th>\n      <th>thing1</th>\n      <td>0.333333</td>\n      <td>0.250000</td>\n      <td>0.333333</td>\n      <td>0.250000</td>\n    </tr>\n    <tr>\n      <th>thing2</th>\n      <td>0.333333</td>\n      <td>0.250000</td>\n      <td>0.500000</td>\n      <td>0.333333</td>\n    </tr>\n    <tr>\n      <th>thing3</th>\n      <td>0.333333</td>\n      <td>0.250000</td>\n      <td>0.500000</td>\n      <td>0.250000</td>\n    </tr>\n    <tr>\n      <th>thing4</th>\n      <td>0.333333</td>\n      <td>0.250000</td>\n      <td>1.000000</td>\n      <td>0.333333</td>\n    </tr>\n    <tr>\n      <th rowspan=\"2\" valign=\"top\">date4</th>\n      <th>thing1</th>\n      <td>0.500000</td>\n      <td>0.500000</td>\n      <td>0.333333</td>\n      <td>0.250000</td>\n    </tr>\n    <tr>\n      <th>thing3</th>\n      <td>0.500000</td>\n      <td>0.500000</td>\n      <td>0.500000</td>\n      <td>0.250000</td>\n    </tr>\n  </tbody>\n</table>\n</div>"
     },
     "metadata": {},
     "execution_count": 214
    }
   ],
   "source": [
    "scores = scores.join(prefs).groupby(['date','event']).mean()\n",
    "scores"
   ]
  },
  {
   "cell_type": "code",
   "execution_count": 215,
   "metadata": {},
   "outputs": [
    {
     "output_type": "execute_result",
     "data": {
      "text/plain": "date   event \ndate3  thing1    0.291667\ndate2  thing3    0.333333\ndate3  thing3    0.333333\n       thing2    0.354167\ndate4  thing1    0.395833\ndate2  thing1    0.427083\ndate4  thing3    0.437500\ndate1  thing4    0.479167\ndate2  thing4    0.479167\ndate3  thing4    0.479167\ndate1  thing3    0.510417\n       thing1    0.527778\n       thing2    0.531250\ndate2  thing2    0.531250\ndtype: float64"
     },
     "metadata": {},
     "execution_count": 215
    }
   ],
   "source": [
    "scores = scores.mean(axis=1).sort_values()\n",
    "scores"
   ]
  },
  {
   "cell_type": "code",
   "execution_count": 216,
   "metadata": {},
   "outputs": [
    {
     "output_type": "stream",
     "name": "stdout",
     "text": "('date2', 'thing2', 0.53125)\n"
    }
   ],
   "source": [
    "(date, event, score) = scores.index[-1] + (scores[scores.index[-1]],)\n",
    "print((date, event, score))"
   ]
  },
  {
   "cell_type": "code",
   "execution_count": 189,
   "metadata": {},
   "outputs": [
    {
     "output_type": "execute_result",
     "data": {
      "text/plain": "     person   date   event  other_dates_score  other_events_score  \\\n0   person1  date1  thing1           0.500000                0.50   \n1   person1  date1  thing3           0.500000                0.50   \n2   person1  date4  thing1           0.500000                0.50   \n3   person1  date4  thing3           0.500000                0.50   \n4   person2  date1  thing1           0.500000                0.50   \n8   person3  date1  thing1           0.333333                0.25   \n10  person3  date1  thing3           0.333333                0.25   \n11  person3  date1  thing4           0.333333                0.25   \n16  person3  date3  thing1           0.333333                0.25   \n18  person3  date3  thing3           0.333333                0.25   \n19  person3  date3  thing4           0.333333                0.25   \n\n    other_interest_score  date_competition_score  \n0               1.000000                0.250000  \n1               1.000000                0.250000  \n2               0.333333                0.250000  \n3               0.500000                0.250000  \n4               1.000000                0.250000  \n8               1.000000                0.250000  \n10              1.000000                0.250000  \n11              1.000000                0.333333  \n16              0.333333                0.250000  \n18              0.500000                0.250000  \n19              1.000000                0.333333  ",
      "text/html": "<div>\n<style scoped>\n    .dataframe tbody tr th:only-of-type {\n        vertical-align: middle;\n    }\n\n    .dataframe tbody tr th {\n        vertical-align: top;\n    }\n\n    .dataframe thead th {\n        text-align: right;\n    }\n</style>\n<table border=\"1\" class=\"dataframe\">\n  <thead>\n    <tr style=\"text-align: right;\">\n      <th></th>\n      <th>person</th>\n      <th>date</th>\n      <th>event</th>\n      <th>other_dates_score</th>\n      <th>other_events_score</th>\n      <th>other_interest_score</th>\n      <th>date_competition_score</th>\n    </tr>\n  </thead>\n  <tbody>\n    <tr>\n      <th>0</th>\n      <td>person1</td>\n      <td>date1</td>\n      <td>thing1</td>\n      <td>0.500000</td>\n      <td>0.50</td>\n      <td>1.000000</td>\n      <td>0.250000</td>\n    </tr>\n    <tr>\n      <th>1</th>\n      <td>person1</td>\n      <td>date1</td>\n      <td>thing3</td>\n      <td>0.500000</td>\n      <td>0.50</td>\n      <td>1.000000</td>\n      <td>0.250000</td>\n    </tr>\n    <tr>\n      <th>2</th>\n      <td>person1</td>\n      <td>date4</td>\n      <td>thing1</td>\n      <td>0.500000</td>\n      <td>0.50</td>\n      <td>0.333333</td>\n      <td>0.250000</td>\n    </tr>\n    <tr>\n      <th>3</th>\n      <td>person1</td>\n      <td>date4</td>\n      <td>thing3</td>\n      <td>0.500000</td>\n      <td>0.50</td>\n      <td>0.500000</td>\n      <td>0.250000</td>\n    </tr>\n    <tr>\n      <th>4</th>\n      <td>person2</td>\n      <td>date1</td>\n      <td>thing1</td>\n      <td>0.500000</td>\n      <td>0.50</td>\n      <td>1.000000</td>\n      <td>0.250000</td>\n    </tr>\n    <tr>\n      <th>8</th>\n      <td>person3</td>\n      <td>date1</td>\n      <td>thing1</td>\n      <td>0.333333</td>\n      <td>0.25</td>\n      <td>1.000000</td>\n      <td>0.250000</td>\n    </tr>\n    <tr>\n      <th>10</th>\n      <td>person3</td>\n      <td>date1</td>\n      <td>thing3</td>\n      <td>0.333333</td>\n      <td>0.25</td>\n      <td>1.000000</td>\n      <td>0.250000</td>\n    </tr>\n    <tr>\n      <th>11</th>\n      <td>person3</td>\n      <td>date1</td>\n      <td>thing4</td>\n      <td>0.333333</td>\n      <td>0.25</td>\n      <td>1.000000</td>\n      <td>0.333333</td>\n    </tr>\n    <tr>\n      <th>16</th>\n      <td>person3</td>\n      <td>date3</td>\n      <td>thing1</td>\n      <td>0.333333</td>\n      <td>0.25</td>\n      <td>0.333333</td>\n      <td>0.250000</td>\n    </tr>\n    <tr>\n      <th>18</th>\n      <td>person3</td>\n      <td>date3</td>\n      <td>thing3</td>\n      <td>0.333333</td>\n      <td>0.25</td>\n      <td>0.500000</td>\n      <td>0.250000</td>\n    </tr>\n    <tr>\n      <th>19</th>\n      <td>person3</td>\n      <td>date3</td>\n      <td>thing4</td>\n      <td>0.333333</td>\n      <td>0.25</td>\n      <td>1.000000</td>\n      <td>0.333333</td>\n    </tr>\n  </tbody>\n</table>\n</div>"
     },
     "metadata": {},
     "execution_count": 189
    }
   ],
   "source": [
    "prefs[(prefs.event != event) & (prefs.date != date)]"
   ]
  },
  {
   "cell_type": "code",
   "execution_count": 94,
   "metadata": {},
   "outputs": [
    {
     "output_type": "execute_result",
     "data": {
      "text/plain": "person   date   event    \nperson1  date1  thing1  0    0.5\n         date4  thing1  2    0.5\ndtype: float64"
     },
     "metadata": {},
     "execution_count": 94
    }
   ],
   "source": [
    "prefs[(prefs['person'] == 'person1') & (prefs['event'] == 'thing1')].groupby(['person','date','event']).apply(lambda r: (r['other_dates_score'] + r['other_events_score']) / 2)"
   ]
  },
  {
   "cell_type": "code",
   "execution_count": 23,
   "metadata": {},
   "outputs": [
    {
     "output_type": "execute_result",
     "data": {
      "text/plain": "     person   date   event\n0   person1  date1  thing1\n1   person1  date1  thing3\n2   person1  date4  thing1\n3   person1  date4  thing3\n4   person2  date1  thing1\n5   person2  date1  thing2\n6   person2  date2  thing1\n7   person2  date2  thing2\n8   person3  date1  thing1\n9   person3  date1  thing2\n10  person3  date1  thing3\n11  person3  date1  thing4\n12  person3  date2  thing1\n13  person3  date2  thing2\n14  person3  date2  thing3\n15  person3  date2  thing4\n16  person3  date3  thing1\n17  person3  date3  thing2\n18  person3  date3  thing3\n19  person3  date3  thing4",
      "text/html": "<div>\n<style scoped>\n    .dataframe tbody tr th:only-of-type {\n        vertical-align: middle;\n    }\n\n    .dataframe tbody tr th {\n        vertical-align: top;\n    }\n\n    .dataframe thead th {\n        text-align: right;\n    }\n</style>\n<table border=\"1\" class=\"dataframe\">\n  <thead>\n    <tr style=\"text-align: right;\">\n      <th></th>\n      <th>person</th>\n      <th>date</th>\n      <th>event</th>\n    </tr>\n  </thead>\n  <tbody>\n    <tr>\n      <th>0</th>\n      <td>person1</td>\n      <td>date1</td>\n      <td>thing1</td>\n    </tr>\n    <tr>\n      <th>1</th>\n      <td>person1</td>\n      <td>date1</td>\n      <td>thing3</td>\n    </tr>\n    <tr>\n      <th>2</th>\n      <td>person1</td>\n      <td>date4</td>\n      <td>thing1</td>\n    </tr>\n    <tr>\n      <th>3</th>\n      <td>person1</td>\n      <td>date4</td>\n      <td>thing3</td>\n    </tr>\n    <tr>\n      <th>4</th>\n      <td>person2</td>\n      <td>date1</td>\n      <td>thing1</td>\n    </tr>\n    <tr>\n      <th>5</th>\n      <td>person2</td>\n      <td>date1</td>\n      <td>thing2</td>\n    </tr>\n    <tr>\n      <th>6</th>\n      <td>person2</td>\n      <td>date2</td>\n      <td>thing1</td>\n    </tr>\n    <tr>\n      <th>7</th>\n      <td>person2</td>\n      <td>date2</td>\n      <td>thing2</td>\n    </tr>\n    <tr>\n      <th>8</th>\n      <td>person3</td>\n      <td>date1</td>\n      <td>thing1</td>\n    </tr>\n    <tr>\n      <th>9</th>\n      <td>person3</td>\n      <td>date1</td>\n      <td>thing2</td>\n    </tr>\n    <tr>\n      <th>10</th>\n      <td>person3</td>\n      <td>date1</td>\n      <td>thing3</td>\n    </tr>\n    <tr>\n      <th>11</th>\n      <td>person3</td>\n      <td>date1</td>\n      <td>thing4</td>\n    </tr>\n    <tr>\n      <th>12</th>\n      <td>person3</td>\n      <td>date2</td>\n      <td>thing1</td>\n    </tr>\n    <tr>\n      <th>13</th>\n      <td>person3</td>\n      <td>date2</td>\n      <td>thing2</td>\n    </tr>\n    <tr>\n      <th>14</th>\n      <td>person3</td>\n      <td>date2</td>\n      <td>thing3</td>\n    </tr>\n    <tr>\n      <th>15</th>\n      <td>person3</td>\n      <td>date2</td>\n      <td>thing4</td>\n    </tr>\n    <tr>\n      <th>16</th>\n      <td>person3</td>\n      <td>date3</td>\n      <td>thing1</td>\n    </tr>\n    <tr>\n      <th>17</th>\n      <td>person3</td>\n      <td>date3</td>\n      <td>thing2</td>\n    </tr>\n    <tr>\n      <th>18</th>\n      <td>person3</td>\n      <td>date3</td>\n      <td>thing3</td>\n    </tr>\n    <tr>\n      <th>19</th>\n      <td>person3</td>\n      <td>date3</td>\n      <td>thing4</td>\n    </tr>\n  </tbody>\n</table>\n</div>"
     },
     "metadata": {},
     "execution_count": 23
    }
   ],
   "source": [
    "#prefs.pivot(index='date', columns='person', values='event')\n",
    "prefs.reset_index()"
   ]
  },
  {
   "cell_type": "code",
   "execution_count": 21,
   "metadata": {},
   "outputs": [
    {
     "output_type": "stream",
     "name": "stdout",
     "text": "Help on method pivot in module pandas.core.frame:\n\npivot(index=None, columns=None, values=None) -> 'DataFrame' method of pandas.core.frame.DataFrame instance\n    Return reshaped DataFrame organized by given index / column values.\n    \n    Reshape data (produce a \"pivot\" table) based on column values. Uses\n    unique values from specified `index` / `columns` to form axes of the\n    resulting DataFrame. This function does not support data\n    aggregation, multiple values will result in a MultiIndex in the\n    columns. See the :ref:`User Guide <reshaping>` for more on reshaping.\n    \n    Parameters\n    ----------\n    index : str or object, optional\n        Column to use to make new frame's index. If None, uses\n        existing index.\n    columns : str or object\n        Column to use to make new frame's columns.\n    values : str, object or a list of the previous, optional\n        Column(s) to use for populating new frame's values. If not\n        specified, all remaining columns will be used and the result will\n        have hierarchically indexed columns.\n    \n        .. versionchanged:: 0.23.0\n           Also accept list of column names.\n    \n    Returns\n    -------\n    DataFrame\n        Returns reshaped DataFrame.\n    \n    Raises\n    ------\n    ValueError:\n        When there are any `index`, `columns` combinations with multiple\n        values. `DataFrame.pivot_table` when you need to aggregate.\n    \n    See Also\n    --------\n    DataFrame.pivot_table : Generalization of pivot that can handle\n        duplicate values for one index/column pair.\n    DataFrame.unstack : Pivot based on the index values instead of a\n        column.\n    \n    Notes\n    -----\n    For finer-tuned control, see hierarchical indexing documentation along\n    with the related stack/unstack methods.\n    \n    Examples\n    --------\n    >>> df = pd.DataFrame({'foo': ['one', 'one', 'one', 'two', 'two',\n    ...                            'two'],\n    ...                    'bar': ['A', 'B', 'C', 'A', 'B', 'C'],\n    ...                    'baz': [1, 2, 3, 4, 5, 6],\n    ...                    'zoo': ['x', 'y', 'z', 'q', 'w', 't']})\n    >>> df\n        foo   bar  baz  zoo\n    0   one   A    1    x\n    1   one   B    2    y\n    2   one   C    3    z\n    3   two   A    4    q\n    4   two   B    5    w\n    5   two   C    6    t\n    \n    >>> df.pivot(index='foo', columns='bar', values='baz')\n    bar  A   B   C\n    foo\n    one  1   2   3\n    two  4   5   6\n    \n    >>> df.pivot(index='foo', columns='bar')['baz']\n    bar  A   B   C\n    foo\n    one  1   2   3\n    two  4   5   6\n    \n    >>> df.pivot(index='foo', columns='bar', values=['baz', 'zoo'])\n          baz       zoo\n    bar   A  B  C   A  B  C\n    foo\n    one   1  2  3   x  y  z\n    two   4  5  6   q  w  t\n    \n    A ValueError is raised if there are any duplicates.\n    \n    >>> df = pd.DataFrame({\"foo\": ['one', 'one', 'two', 'two'],\n    ...                    \"bar\": ['A', 'A', 'B', 'C'],\n    ...                    \"baz\": [1, 2, 3, 4]})\n    >>> df\n       foo bar  baz\n    0  one   A    1\n    1  one   A    2\n    2  two   B    3\n    3  two   C    4\n    \n    Notice that the first two rows are the same for our `index`\n    and `columns` arguments.\n    \n    >>> df.pivot(index='foo', columns='bar', values='baz')\n    Traceback (most recent call last):\n       ...\n    ValueError: Index contains duplicate entries, cannot reshape\n\n"
    }
   ],
   "source": [
    "help(prefs.pivot)"
   ]
  },
  {
   "cell_type": "markdown",
   "metadata": {},
   "source": [
    "## aggregation"
   ]
  },
  {
   "cell_type": "code",
   "execution_count": 147,
   "metadata": {},
   "outputs": [
    {
     "data": {
      "text/plain": [
       "event   date \n",
       "thing1  date3    1\n",
       "        date4    1\n",
       "thing2  date3    1\n",
       "thing3  date2    1\n",
       "        date3    1\n",
       "        date4    1\n",
       "thing4  date1    1\n",
       "        date2    1\n",
       "        date3    1\n",
       "thing1  date2    2\n",
       "thing2  date1    2\n",
       "        date2    2\n",
       "thing3  date1    2\n",
       "thing1  date1    3\n",
       "dtype: int64"
      ]
     },
     "execution_count": 147,
     "metadata": {},
     "output_type": "execute_result"
    }
   ],
   "source": [
    "options = prefs.groupby(['event','date']).size().sort_values()\n",
    "options"
   ]
  },
  {
   "cell_type": "code",
   "execution_count": 144,
   "metadata": {},
   "outputs": [
    {
     "data": {
      "text/plain": [
       "2"
      ]
     },
     "execution_count": 144,
     "metadata": {},
     "output_type": "execute_result"
    }
   ],
   "source": [
    "def num_attendees_for(event, date):\n",
    "    return options.loc[(event, date)]\n",
    "num_attendees_for(\"thing1\", \"date2\")"
   ]
  },
  {
   "cell_type": "markdown",
   "metadata": {},
   "source": [
    "## scoring"
   ]
  },
  {
   "cell_type": "code",
   "execution_count": 149,
   "metadata": {},
   "outputs": [
    {
     "data": {
      "text/plain": [
       "event   date \n",
       "thing1  date1    0\n",
       "        date2    0\n",
       "        date3    0\n",
       "        date4    0\n",
       "thing2  date1    0\n",
       "        date2    0\n",
       "        date3    0\n",
       "thing3  date1    0\n",
       "        date2    0\n",
       "        date3    0\n",
       "        date4    0\n",
       "thing4  date1    0\n",
       "        date2    0\n",
       "        date3    0\n",
       "dtype: int64"
      ]
     },
     "execution_count": 149,
     "metadata": {},
     "output_type": "execute_result"
    }
   ],
   "source": [
    "def score(x):\n",
    "    attendees = [] # todo\n",
    "    num_attendees = len(attendees)\n",
    "    return num_attendees\n",
    "        \n",
    "    \n",
    "    \n",
    "\n",
    "prefs.groupby(['event','date']).apply(score).sort_values()"
   ]
  },
  {
   "cell_type": "code",
   "execution_count": 114,
   "metadata": {},
   "outputs": [
    {
     "data": {
      "text/plain": [
       "[Index(['person1', 'person2', 'person3'], dtype='object', name='person'),\n",
       " Index(['person2', 'person3'], dtype='object', name='person'),\n",
       " Index(['person3'], dtype='object', name='person'),\n",
       " Index(['person1'], dtype='object', name='person'),\n",
       " Index(['person2', 'person3'], dtype='object', name='person'),\n",
       " Index(['person2', 'person3'], dtype='object', name='person'),\n",
       " Index(['person3'], dtype='object', name='person'),\n",
       " Index(['person1', 'person3'], dtype='object', name='person'),\n",
       " Index(['person3'], dtype='object', name='person'),\n",
       " Index(['person3'], dtype='object', name='person'),\n",
       " Index(['person1'], dtype='object', name='person'),\n",
       " Index(['person3'], dtype='object', name='person'),\n",
       " Index(['person3'], dtype='object', name='person'),\n",
       " Index(['person3'], dtype='object', name='person')]"
      ]
     },
     "execution_count": 114,
     "metadata": {},
     "output_type": "execute_result"
    }
   ],
   "source": [
    "[a.index for td,a in prefs.groupby(['event','date'])]"
   ]
  },
  {
   "cell_type": "code",
   "execution_count": 98,
   "metadata": {},
   "outputs": [
    {
     "data": {
      "text/html": [
       "<div>\n",
       "<style scoped>\n",
       "    .dataframe tbody tr th:only-of-type {\n",
       "        vertical-align: middle;\n",
       "    }\n",
       "\n",
       "    .dataframe tbody tr th {\n",
       "        vertical-align: top;\n",
       "    }\n",
       "\n",
       "    .dataframe thead th {\n",
       "        text-align: right;\n",
       "    }\n",
       "</style>\n",
       "<table border=\"1\" class=\"dataframe\">\n",
       "  <thead>\n",
       "    <tr style=\"text-align: right;\">\n",
       "      <th></th>\n",
       "      <th></th>\n",
       "      <th>0</th>\n",
       "    </tr>\n",
       "    <tr>\n",
       "      <th>event</th>\n",
       "      <th>date</th>\n",
       "      <th></th>\n",
       "    </tr>\n",
       "  </thead>\n",
       "  <tbody>\n",
       "    <tr>\n",
       "      <th rowspan=\"2\" valign=\"top\">thing1</th>\n",
       "      <th>date3</th>\n",
       "      <td>1</td>\n",
       "    </tr>\n",
       "    <tr>\n",
       "      <th>date4</th>\n",
       "      <td>1</td>\n",
       "    </tr>\n",
       "    <tr>\n",
       "      <th>thing2</th>\n",
       "      <th>date3</th>\n",
       "      <td>1</td>\n",
       "    </tr>\n",
       "    <tr>\n",
       "      <th rowspan=\"3\" valign=\"top\">thing3</th>\n",
       "      <th>date2</th>\n",
       "      <td>1</td>\n",
       "    </tr>\n",
       "    <tr>\n",
       "      <th>date3</th>\n",
       "      <td>1</td>\n",
       "    </tr>\n",
       "    <tr>\n",
       "      <th>date4</th>\n",
       "      <td>1</td>\n",
       "    </tr>\n",
       "    <tr>\n",
       "      <th rowspan=\"3\" valign=\"top\">thing4</th>\n",
       "      <th>date1</th>\n",
       "      <td>1</td>\n",
       "    </tr>\n",
       "    <tr>\n",
       "      <th>date2</th>\n",
       "      <td>1</td>\n",
       "    </tr>\n",
       "    <tr>\n",
       "      <th>date3</th>\n",
       "      <td>1</td>\n",
       "    </tr>\n",
       "    <tr>\n",
       "      <th>thing1</th>\n",
       "      <th>date2</th>\n",
       "      <td>2</td>\n",
       "    </tr>\n",
       "    <tr>\n",
       "      <th rowspan=\"2\" valign=\"top\">thing2</th>\n",
       "      <th>date1</th>\n",
       "      <td>2</td>\n",
       "    </tr>\n",
       "    <tr>\n",
       "      <th>date2</th>\n",
       "      <td>2</td>\n",
       "    </tr>\n",
       "    <tr>\n",
       "      <th>thing3</th>\n",
       "      <th>date1</th>\n",
       "      <td>2</td>\n",
       "    </tr>\n",
       "    <tr>\n",
       "      <th>thing1</th>\n",
       "      <th>date1</th>\n",
       "      <td>3</td>\n",
       "    </tr>\n",
       "  </tbody>\n",
       "</table>\n",
       "</div>"
      ],
      "text/plain": [
       "              0\n",
       "event  date    \n",
       "thing1 date3  1\n",
       "       date4  1\n",
       "thing2 date3  1\n",
       "thing3 date2  1\n",
       "       date3  1\n",
       "       date4  1\n",
       "thing4 date1  1\n",
       "       date2  1\n",
       "       date3  1\n",
       "thing1 date2  2\n",
       "thing2 date1  2\n",
       "       date2  2\n",
       "thing3 date1  2\n",
       "thing1 date1  3"
      ]
     },
     "execution_count": 98,
     "metadata": {},
     "output_type": "execute_result"
    }
   ],
   "source": [
    "pd.DataFrame(options)"
   ]
  },
  {
   "cell_type": "code",
   "execution_count": 39,
   "metadata": {},
   "outputs": [
    {
     "data": {
      "text/html": [
       "<div>\n",
       "<style scoped>\n",
       "    .dataframe tbody tr th:only-of-type {\n",
       "        vertical-align: middle;\n",
       "    }\n",
       "\n",
       "    .dataframe tbody tr th {\n",
       "        vertical-align: top;\n",
       "    }\n",
       "\n",
       "    .dataframe thead th {\n",
       "        text-align: right;\n",
       "    }\n",
       "</style>\n",
       "<table border=\"1\" class=\"dataframe\">\n",
       "  <thead>\n",
       "    <tr style=\"text-align: right;\">\n",
       "      <th></th>\n",
       "      <th>eventat</th>\n",
       "      <th>attendees</th>\n",
       "    </tr>\n",
       "  </thead>\n",
       "  <tbody>\n",
       "    <tr>\n",
       "      <th>0</th>\n",
       "      <td>(thing1, date1)</td>\n",
       "      <td>date   event\n",
       "person                \n",
       "...</td>\n",
       "    </tr>\n",
       "    <tr>\n",
       "      <th>1</th>\n",
       "      <td>(thing1, date2)</td>\n",
       "      <td>date   event\n",
       "person                \n",
       "...</td>\n",
       "    </tr>\n",
       "    <tr>\n",
       "      <th>2</th>\n",
       "      <td>(thing1, date3)</td>\n",
       "      <td>date   event\n",
       "person                \n",
       "...</td>\n",
       "    </tr>\n",
       "    <tr>\n",
       "      <th>3</th>\n",
       "      <td>(thing1, date4)</td>\n",
       "      <td>date   event\n",
       "person                \n",
       "...</td>\n",
       "    </tr>\n",
       "    <tr>\n",
       "      <th>4</th>\n",
       "      <td>(thing2, date1)</td>\n",
       "      <td>date   event\n",
       "person                \n",
       "...</td>\n",
       "    </tr>\n",
       "    <tr>\n",
       "      <th>5</th>\n",
       "      <td>(thing2, date2)</td>\n",
       "      <td>date   event\n",
       "person                \n",
       "...</td>\n",
       "    </tr>\n",
       "    <tr>\n",
       "      <th>6</th>\n",
       "      <td>(thing2, date3)</td>\n",
       "      <td>date   event\n",
       "person                \n",
       "...</td>\n",
       "    </tr>\n",
       "    <tr>\n",
       "      <th>7</th>\n",
       "      <td>(thing3, date1)</td>\n",
       "      <td>date   event\n",
       "person                \n",
       "...</td>\n",
       "    </tr>\n",
       "    <tr>\n",
       "      <th>8</th>\n",
       "      <td>(thing3, date2)</td>\n",
       "      <td>date   event\n",
       "person                \n",
       "...</td>\n",
       "    </tr>\n",
       "    <tr>\n",
       "      <th>9</th>\n",
       "      <td>(thing3, date3)</td>\n",
       "      <td>date   event\n",
       "person                \n",
       "...</td>\n",
       "    </tr>\n",
       "    <tr>\n",
       "      <th>10</th>\n",
       "      <td>(thing3, date4)</td>\n",
       "      <td>date   event\n",
       "person                \n",
       "...</td>\n",
       "    </tr>\n",
       "    <tr>\n",
       "      <th>11</th>\n",
       "      <td>(thing4, date1)</td>\n",
       "      <td>date   event\n",
       "person                \n",
       "...</td>\n",
       "    </tr>\n",
       "    <tr>\n",
       "      <th>12</th>\n",
       "      <td>(thing4, date2)</td>\n",
       "      <td>date   event\n",
       "person                \n",
       "...</td>\n",
       "    </tr>\n",
       "    <tr>\n",
       "      <th>13</th>\n",
       "      <td>(thing4, date3)</td>\n",
       "      <td>date   event\n",
       "person                \n",
       "...</td>\n",
       "    </tr>\n",
       "  </tbody>\n",
       "</table>\n",
       "</div>"
      ],
      "text/plain": [
       "            eventat                                          attendees\n",
       "0   (thing1, date1)            date   event\n",
       "person                \n",
       "...\n",
       "1   (thing1, date2)            date   event\n",
       "person                \n",
       "...\n",
       "2   (thing1, date3)            date   event\n",
       "person                \n",
       "...\n",
       "3   (thing1, date4)            date   event\n",
       "person                \n",
       "...\n",
       "4   (thing2, date1)            date   event\n",
       "person                \n",
       "...\n",
       "5   (thing2, date2)            date   event\n",
       "person                \n",
       "...\n",
       "6   (thing2, date3)            date   event\n",
       "person                \n",
       "...\n",
       "7   (thing3, date1)            date   event\n",
       "person                \n",
       "...\n",
       "8   (thing3, date2)            date   event\n",
       "person                \n",
       "...\n",
       "9   (thing3, date3)            date   event\n",
       "person                \n",
       "...\n",
       "10  (thing3, date4)            date   event\n",
       "person                \n",
       "...\n",
       "11  (thing4, date1)            date   event\n",
       "person                \n",
       "...\n",
       "12  (thing4, date2)            date   event\n",
       "person                \n",
       "...\n",
       "13  (thing4, date3)            date   event\n",
       "person                \n",
       "..."
      ]
     },
     "execution_count": 39,
     "metadata": {},
     "output_type": "execute_result"
    }
   ],
   "source": [
    "options = prefs.groupby(['event','date'])\n",
    "odf = pd.DataFrame(options, columns=['eventat','attendees'])\n",
    "odf"
   ]
  },
  {
   "cell_type": "code",
   "execution_count": 138,
   "metadata": {},
   "outputs": [
    {
     "data": {
      "text/plain": [
       "0              date   event\n",
       "person                \n",
       "...\n",
       "Name: attendees, dtype: object"
      ]
     },
     "execution_count": 138,
     "metadata": {},
     "output_type": "execute_result"
    }
   ],
   "source": [
    "t1d1 = odf[odf['eventat'] == ('thing1','date1')]['attendees']\n",
    "t1d1"
   ]
  },
  {
   "cell_type": "code",
   "execution_count": 140,
   "metadata": {},
   "outputs": [
    {
     "data": {
      "text/plain": [
       "['person1', 'person2', 'person3']"
      ]
     },
     "execution_count": 140,
     "metadata": {},
     "output_type": "execute_result"
    }
   ],
   "source": [
    "t1d1_people = list(t1d1[0].index)\n",
    "t1d1_people"
   ]
  },
  {
   "cell_type": "code",
   "execution_count": 57,
   "metadata": {},
   "outputs": [
    {
     "data": {
      "text/html": [
       "<div>\n",
       "<style scoped>\n",
       "    .dataframe tbody tr th:only-of-type {\n",
       "        vertical-align: middle;\n",
       "    }\n",
       "\n",
       "    .dataframe tbody tr th {\n",
       "        vertical-align: top;\n",
       "    }\n",
       "\n",
       "    .dataframe thead th {\n",
       "        text-align: right;\n",
       "    }\n",
       "</style>\n",
       "<table border=\"1\" class=\"dataframe\">\n",
       "  <thead>\n",
       "    <tr style=\"text-align: right;\">\n",
       "      <th></th>\n",
       "      <th>date</th>\n",
       "      <th>event</th>\n",
       "    </tr>\n",
       "    <tr>\n",
       "      <th>person</th>\n",
       "      <th></th>\n",
       "      <th></th>\n",
       "    </tr>\n",
       "  </thead>\n",
       "  <tbody>\n",
       "    <tr>\n",
       "      <th>person1</th>\n",
       "      <td>date1</td>\n",
       "      <td>thing1</td>\n",
       "    </tr>\n",
       "    <tr>\n",
       "      <th>person2</th>\n",
       "      <td>date1</td>\n",
       "      <td>thing1</td>\n",
       "    </tr>\n",
       "    <tr>\n",
       "      <th>person3</th>\n",
       "      <td>date1</td>\n",
       "      <td>thing1</td>\n",
       "    </tr>\n",
       "  </tbody>\n",
       "</table>\n",
       "</div>"
      ],
      "text/plain": [
       "          date   event\n",
       "person                \n",
       "person1  date1  thing1\n",
       "person2  date1  thing1\n",
       "person3  date1  thing1"
      ]
     },
     "execution_count": 57,
     "metadata": {},
     "output_type": "execute_result"
    }
   ],
   "source": [
    "x = odf[odf['eventat'] == ('thing1', 'date1')]['attendees'][0]\n",
    "x"
   ]
  },
  {
   "cell_type": "code",
   "execution_count": 63,
   "metadata": {},
   "outputs": [
    {
     "data": {
      "text/plain": [
       "Index(['date', 'event'], dtype='object')"
      ]
     },
     "execution_count": 63,
     "metadata": {},
     "output_type": "execute_result"
    }
   ],
   "source": [
    "x.keys()"
   ]
  },
  {
   "cell_type": "markdown",
   "metadata": {},
   "source": [
    "## how to extract person from ^^^?"
   ]
  },
  {
   "cell_type": "code",
   "execution_count": 41,
   "metadata": {},
   "outputs": [
    {
     "ename": "TypeError",
     "evalue": "Can only append a Series if ignore_index=True or if the Series has a name",
     "output_type": "error",
     "traceback": [
      "\u001b[0;31m---------------------------------------------------------------------------\u001b[0m",
      "\u001b[0;31mTypeError\u001b[0m                                 Traceback (most recent call last)",
      "\u001b[0;32m<ipython-input-41-0fc2305bac6f>\u001b[0m in \u001b[0;36m<module>\u001b[0;34m\u001b[0m\n\u001b[0;32m----> 1\u001b[0;31m \u001b[0modf\u001b[0m\u001b[0;34m.\u001b[0m\u001b[0mappend\u001b[0m\u001b[0;34m(\u001b[0m\u001b[0mprefs\u001b[0m\u001b[0;34m.\u001b[0m\u001b[0mgroupby\u001b[0m\u001b[0;34m(\u001b[0m\u001b[0;34m[\u001b[0m\u001b[0;34m'event'\u001b[0m\u001b[0;34m,\u001b[0m\u001b[0;34m'date'\u001b[0m\u001b[0;34m]\u001b[0m\u001b[0;34m)\u001b[0m\u001b[0;34m.\u001b[0m\u001b[0msize\u001b[0m\u001b[0;34m(\u001b[0m\u001b[0;34m)\u001b[0m\u001b[0;34m)\u001b[0m\u001b[0;34m\u001b[0m\u001b[0;34m\u001b[0m\u001b[0m\n\u001b[0m",
      "\u001b[0;32m~/.local/lib/python3.6/site-packages/pandas/core/frame.py\u001b[0m in \u001b[0;36mappend\u001b[0;34m(self, other, ignore_index, verify_integrity, sort)\u001b[0m\n\u001b[1;32m   7047\u001b[0m             \u001b[0;32mif\u001b[0m \u001b[0mother\u001b[0m\u001b[0;34m.\u001b[0m\u001b[0mname\u001b[0m \u001b[0;32mis\u001b[0m \u001b[0;32mNone\u001b[0m \u001b[0;32mand\u001b[0m \u001b[0;32mnot\u001b[0m \u001b[0mignore_index\u001b[0m\u001b[0;34m:\u001b[0m\u001b[0;34m\u001b[0m\u001b[0;34m\u001b[0m\u001b[0m\n\u001b[1;32m   7048\u001b[0m                 raise TypeError(\n\u001b[0;32m-> 7049\u001b[0;31m                     \u001b[0;34m\"Can only append a Series if ignore_index=True \"\u001b[0m\u001b[0;34m\u001b[0m\u001b[0;34m\u001b[0m\u001b[0m\n\u001b[0m\u001b[1;32m   7050\u001b[0m                     \u001b[0;34m\"or if the Series has a name\"\u001b[0m\u001b[0;34m\u001b[0m\u001b[0;34m\u001b[0m\u001b[0m\n\u001b[1;32m   7051\u001b[0m                 )\n",
      "\u001b[0;31mTypeError\u001b[0m: Can only append a Series if ignore_index=True or if the Series has a name"
     ]
    }
   ],
   "source": [
    "odf.append(prefs.groupby(['event','date']).size())"
   ]
  },
  {
   "cell_type": "code",
   "execution_count": null,
   "metadata": {},
   "outputs": [],
   "source": [
    "def interest_in(df, event):\n",
    "    return df['events'].apply(lambda v: event in v) \n",
    "\n",
    "def available_on(df, date):\n",
    "    return df['dates'].apply(lambda v: date in v)\n",
    "\n",
    "def attendees_for(df, event, date):\n",
    "    return df[interest_in(df, event) & available_on(df, date)]['person']\n",
    "\n",
    "def dates_for_event(df, event):\n",
    "    res = set()\n",
    "    for dates in df[interest_in(df, event)]['dates']:\n",
    "        res.update(set(dates))\n",
    "    return res\n"
   ]
  },
  {
   "cell_type": "code",
   "execution_count": null,
   "metadata": {},
   "outputs": [],
   "source": [
    "pd.MultiIndex.from_product([all_events,all_dates], names=['event', 'date'])"
   ]
  },
  {
   "cell_type": "code",
   "execution_count": null,
   "metadata": {},
   "outputs": [],
   "source": [
    "event = 'thing1'\n",
    "df[interest_in(df, event)]"
   ]
  },
  {
   "cell_type": "code",
   "execution_count": null,
   "metadata": {},
   "outputs": [],
   "source": [
    "\t\"\"\"\n",
    "\tgoal: figure out which combinations of people+date+event would have the best attendance.\n",
    "\t\t\n",
    "\tfor any \"event\" with interest above a threshold, show the date that works for the most people, then re-check the threshold and remove if not met.\n",
    "\n",
    "\t- group people by interest in event\n",
    "\t- remove events with total interest below threshold\n",
    "\t- for each remaining event:\n",
    "\t\t- collect people interested in event, grouped by date\n",
    "\t\t- remove event if max(group_lens) < thresh\n",
    "        \n",
    "    so we want:\n",
    "    Series((date, event, (person1,person2,...)),...)\n",
    "\t\"\"\""
   ]
  },
  {
   "cell_type": "code",
   "execution_count": null,
   "metadata": {},
   "outputs": [],
   "source": [
    "attendance_data = []\n",
    "for date in all_dates:\n",
    "    for event in all_events:\n",
    "        available_on(df,'date1')"
   ]
  },
  {
   "cell_type": "code",
   "execution_count": null,
   "metadata": {},
   "outputs": [],
   "source": [
    "attendance = []\n",
    "for event in all_events:\n",
    "    for date in dates_for_event(df, event):\n",
    "        attendance.append((event, date, attendees_for(df,event,date)))\n",
    "        \n",
    "\n",
    "pd.DataFrame(attendance, columns=('event','date','people'))"
   ]
  },
  {
   "cell_type": "code",
   "execution_count": null,
   "metadata": {},
   "outputs": [],
   "source": [
    "s1 = pd.Series([\"a\",\"b\"])\n",
    "s2 = pd.Series([\"c\",\"d\",\"e\"])\n",
    "d = pd.DataFrame([s1,s2])\n",
    "d"
   ]
  },
  {
   "cell_type": "code",
   "execution_count": null,
   "metadata": {},
   "outputs": [],
   "source": [
    "s1 = pd.Series(((\"person1\",\"person2\"),), index=[\"thing1\",\"date1\"])\n",
    "s1"
   ]
  },
  {
   "cell_type": "code",
   "execution_count": null,
   "metadata": {},
   "outputs": [],
   "source": [
    "cols = pd.MultiIndex.from_product((all_events, all_dates))\n",
    "[ [a.upper(),b] for a,b in index.values ]\n"
   ]
  },
  {
   "cell_type": "code",
   "execution_count": null,
   "metadata": {},
   "outputs": [],
   "source": []
  },
  {
   "cell_type": "code",
   "execution_count": null,
   "metadata": {},
   "outputs": [],
   "source": [
    "rows = all_people\n",
    "table = pd.DataFrame(np.random.randn(3, 16), index=rows, columns=cols)\n",
    "table"
   ]
  },
  {
   "cell_type": "code",
   "execution_count": null,
   "metadata": {},
   "outputs": [],
   "source": [
    "df['thing1'][\"date1\"]['person1']"
   ]
  },
  {
   "cell_type": "code",
   "execution_count": null,
   "metadata": {},
   "outputs": [],
   "source": [
    "form = df\n",
    "\n",
    "for event, date in index.values:\n",
    "    for person in form[interest_in(form,event) & available_on(form,date)]['person'].values:\n",
    "        table.loc(event, date, person) = True\n",
    "    \n",
    "#form[interest_in(form,'thing1') & available_on(form,'date1')]['person'].values\n",
    "table\n",
    "\n",
    "#form[interest_in(form,event) & available_on(form,event)]"
   ]
  }
 ],
 "metadata": {
  "kernelspec": {
   "display_name": "Python 3",
   "language": "python",
   "name": "python3"
  },
  "language_info": {
   "codemirror_mode": {
    "name": "ipython",
    "version": 3
   },
   "file_extension": ".py",
   "mimetype": "text/x-python",
   "name": "python",
   "nbconvert_exporter": "python",
   "pygments_lexer": "ipython3",
   "version": "3.6.9-final"
  }
 },
 "nbformat": 4,
 "nbformat_minor": 4
}